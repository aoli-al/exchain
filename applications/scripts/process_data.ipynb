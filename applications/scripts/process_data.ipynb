{
 "cells": [
  {
   "cell_type": "code",
   "execution_count": 1,
   "metadata": {},
   "outputs": [],
   "source": [
    "%load_ext autoreload\n",
    "%autoreload 2\n",
    "\n"
   ]
  },
  {
   "cell_type": "code",
   "execution_count": 2,
   "metadata": {},
   "outputs": [
    {
     "name": "stderr",
     "output_type": "stream",
     "text": [
      "/usr/lib/python3/dist-packages/requests/__init__.py:89: RequestsDependencyWarning: urllib3 (1.25.8) or chardet (4.0.0) doesn't match a supported version!\n",
      "  warnings.warn(\"urllib3 ({}) or chardet ({}) doesn't match a supported \"\n"
     ]
    }
   ],
   "source": [
    "from runner import BENCHMARK_APPLICATIONS\n",
    "from process_results import *\n",
    "import os\n",
    "import pandas as pd"
   ]
  },
  {
   "cell_type": "code",
   "execution_count": 7,
   "metadata": {},
   "outputs": [
    {
     "name": "stdout",
     "output_type": "stream",
     "text": [
      "             name  num_exce  num_frame  is_async  logged dynamic static  \\\n",
      "0        jena_324         6         50      True    True   1/0/0  0/1/1   \n",
      "1   fineract_1211        69        313     False    True   1/0/0  1/0/0   \n",
      "2  mapreduce_6654        57        489     False    True   1/0/0  0/0/1   \n",
      "3       nifi_8249        82       2643      True    True   1/0/0  0/0/1   \n",
      "4    hadoop_17812        33        127     False   False   1/0/0  0/0/1   \n",
      "5     wicket_6249        10         64      True   False   1/1/0  0/0/1   \n",
      "6       hdfs_4128       118        402      True   False   1/0/0  0/0/1   \n",
      "7      hive_13410        52        292      True   False   5/0/0  0/0/5   \n",
      "\n",
      "  hybrid_online hybrid_offline  \n",
      "0         1/0/0          0/1/1  \n",
      "1         0/0/1          1/0/0  \n",
      "2         1/0/0          0/0/1  \n",
      "3         0/0/1          0/0/1  \n",
      "4         1/0/0          0/0/1  \n",
      "5         0/0/1          0/0/1  \n",
      "6         0/0/1          0/0/1  \n",
      "7         2/0/3          0/0/5  \n"
     ]
    }
   ],
   "source": [
    "\n",
    "data = {\n",
    "    \"name\": [],\n",
    "    \"num_exce\": [],\n",
    "    \"num_frame\": [],\n",
    "    \"is_async\": [],\n",
    "    \"logged\": [],\n",
    "    \"dynamic\": [],\n",
    "    \"static\": [],\n",
    "    \"hybrid_online\": [],\n",
    "    \"hybrid_offline\": [],\n",
    "}\n",
    "\n",
    "for name, cls in BENCHMARK_APPLICATIONS.items():\n",
    "    data[\"name\"].append(name)\n",
    "    app = cls()\n",
    "    static_result_path = app.get_latest_result(\"static\")\n",
    "    exceptions = read_exceptions(os.path.join(static_result_path, \"exception.json\"))\n",
    "    ground_truth = app.read_ground_truth()\n",
    "    dynamic_dependency = app.read_latest_dynamic_dependency()\n",
    "    root_cause_in_log = check_root_cause_in_log(ground_truth, app.origin_log_path)\n",
    "    data[\"is_async\"].append(app.is_async)\n",
    "    data[\"logged\"].append(root_cause_in_log)\n",
    "\n",
    "    (tp, fp, fn) = process_dependency_result(dynamic_dependency, ground_truth)\n",
    "    data[\"dynamic\"].append(f\"{tp}/{fp}/{fn}\")\n",
    "\n",
    "    static_dependency = app.read_latest_static_dependency()\n",
    "    (tp, fp, fn) = process_dependency_result(static_dependency, ground_truth)\n",
    "    data[\"static\"].append(f\"{tp}/{fp}/{fn}\")\n",
    "\n",
    "    hybrid_online, hybrid_offline = app.read_latest_hybrid_dependency()\n",
    "    (tp, fp, fn) = process_dependency_result(hybrid_online, ground_truth)\n",
    "    data[\"hybrid_online\"].append(f\"{tp}/{fp}/{fn}\")\n",
    "    (tp, fp, fn) = process_dependency_result(hybrid_offline, ground_truth)\n",
    "    data[\"hybrid_offline\"].append(f\"{tp}/{fp}/{fn}\")\n",
    "\n",
    "\n",
    "    data['num_exce'].append(len(exceptions))\n",
    "    data[\"num_frame\"].append(len(open(os.path.join(app.get_latest_result(\n",
    "        \"dynamic\"), \"affected-var-results.json\")).readlines()))\n",
    "\n",
    "df = pd.DataFrame(data)\n",
    "print(df)"
   ]
  },
  {
   "cell_type": "code",
   "execution_count": null,
   "metadata": {},
   "outputs": [],
   "source": []
  }
 ],
 "metadata": {
  "kernelspec": {
   "display_name": "Python 3",
   "language": "python",
   "name": "python3"
  },
  "language_info": {
   "codemirror_mode": {
    "name": "ipython",
    "version": 3
   },
   "file_extension": ".py",
   "mimetype": "text/x-python",
   "name": "python",
   "nbconvert_exporter": "python",
   "pygments_lexer": "ipython3",
   "version": "3.8.10"
  },
  "orig_nbformat": 4,
  "vscode": {
   "interpreter": {
    "hash": "916dbcbb3f70747c44a77c7bcd40155683ae19c65e1c03b4aa3499c5328201f1"
   }
  }
 },
 "nbformat": 4,
 "nbformat_minor": 2
}
