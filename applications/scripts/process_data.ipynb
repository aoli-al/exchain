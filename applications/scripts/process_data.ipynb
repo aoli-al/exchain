{
 "cells": [
  {
   "cell_type": "code",
   "execution_count": 2,
   "metadata": {},
   "outputs": [],
   "source": [
    "%load_ext autoreload\n",
    "%reload_ext autoreload\n",
    "%autoreload 2"
   ]
  },
  {
   "cell_type": "code",
   "execution_count": 7,
   "metadata": {},
   "outputs": [],
   "source": [
    "from runner import *\n",
    "from process_results import *\n",
    "import os\n",
    "import pandas as pd\n",
    "fig_dir = \"/usr0/home/aoli/repos/exchain-paper/figs\""
   ]
  },
  {
   "cell_type": "code",
   "execution_count": 23,
   "metadata": {},
   "outputs": [],
   "source": [
    "table_data = []\n",
    "\n",
    "for name, app in TEST_APPLICATIONS.items():\n",
    "    table_data.append([])\n",
    "    table_data[-1].append(name.replace(\"_\", \"-\").upper())\n",
    "    ground_truth = app.read_ground_truth()\n",
    "    dynamic_dependency = app.read_latest_dynamic_dependency()\n",
    "    root_cause_in_log = check_root_cause_in_log(ground_truth, app.origin_log_path)\n",
    "    table_data[-1].append(app.is_running_service)\n",
    "    table_data[-1].append(app.is_async)\n",
    "    table_data[-1].append(root_cause_in_log)\n",
    "\n",
    "    table_data[-1].append(get_exception_distance(ground_truth,\n",
    "                                                   os.path.join(app.get_latest_result(\"dynamic\"), \"exception.json\")))\n",
    "\n",
    "\n",
    "    dynamic_result_path = app.get_latest_result(\"dynamic\")\n",
    "    exceptions = read_exceptions(os.path.join(dynamic_result_path, \"exception.json\"))\n",
    "    table_data[-1].append(len(exceptions))\n",
    "    ground_truth = app.read_ground_truth()\n",
    "    dynamic_dependency = app.read_latest_dynamic_dependency()\n",
    "\n",
    "\n",
    "    static_dependency = app.read_latest_static_dependency()\n",
    "    table_data[-1].extend(process_dependency_result(static_dependency, ground_truth))\n",
    "\n",
    "    hybrid_online, hybrid_offline = app.read_latest_hybrid_dependency()\n",
    "    table_data[-1].extend(process_dependency_result(hybrid_online + hybrid_offline, ground_truth))\n",
    "    table_data[-1].extend(process_dependency_result(dynamic_dependency, ground_truth))\n",
    "save_as_latex_table(table_data, os.path.join(fig_dir, \"issue_result.tex\"))"
   ]
  },
  {
   "cell_type": "code",
   "execution_count": 4,
   "metadata": {},
   "outputs": [
    {
     "name": "stdout",
     "output_type": "stream",
     "text": [
      "fineract_bench\n",
      "jena_bench\n",
      "hadoop_nnbench\n",
      "wicket_bench\n",
      "solr_bench\n",
      "hadoop_terasort\n",
      "tomcat_bench\n",
      "hadoop_dfs_write\n",
      "               name   origin    std   static    std   diff   hybrid    std  \\\n",
      "0    fineract_bench     12.8    0.1     13.5    0.1   6.0%     15.9    0.1   \n",
      "1    hadoop_nnbench   1535.4    4.0   1516.2    3.8  -1.3%   1209.8    2.6   \n",
      "2      wicket_bench     25.8    1.1     26.4    0.8   2.3%     30.2    0.7   \n",
      "3        solr_bench  16581.6  158.1  16138.1  110.4  -2.7%  12079.3  114.9   \n",
      "4   hadoop_terasort     20.6    0.1     22.7    0.1  10.3%     26.8    0.0   \n",
      "5      tomcat_bench      8.2    0.2      8.7    0.4   6.4%     10.6    0.5   \n",
      "6  hadoop_dfs_write   2094.4   28.2   2093.5   14.3  -0.0%   1797.1   18.0   \n",
      "\n",
      "     diff dynamic   std     diff  \n",
      "0   24.9%   206.1  17.9  1514.5%  \n",
      "1  -21.2%   687.5   2.0   -55.2%  \n",
      "2   17.1%   452.5  16.4  1653.5%  \n",
      "3  -27.2%   219.4  18.2   -98.7%  \n",
      "4   30.2%  1257.4  55.6  6004.6%  \n",
      "5   30.4%   143.9   6.2  1662.0%  \n",
      "6  -14.2%   323.0   6.9   -84.6%  \n"
     ]
    }
   ],
   "source": [
    "\n",
    "table_data = []\n",
    "\n",
    "for name, app in BENCH_APPLICATIONS.items():\n",
    "    table_data.append([])\n",
    "    table_data[-1].append(name.replace(\"_\", \"-\").upper())\n",
    "    separate_results = [\"fineract_bench\", \"jena_bench\"]\n",
    "    print(name)\n",
    "    if \"jena\" in name:\n",
    "        continue\n",
    "    table_data.append(read_perf_result(app))\n",
    "save_as_latex_table(table_data, os.path.join(fig_dir, \"perf_result.tex\"))\n",
    "\n"
   ]
  },
  {
   "cell_type": "code",
   "execution_count": null,
   "metadata": {},
   "outputs": [],
   "source": []
  }
 ],
 "metadata": {
  "kernelspec": {
   "display_name": "Python 3",
   "language": "python",
   "name": "python3"
  },
  "language_info": {
   "codemirror_mode": {
    "name": "ipython",
    "version": 3
   },
   "file_extension": ".py",
   "mimetype": "text/x-python",
   "name": "python",
   "nbconvert_exporter": "python",
   "pygments_lexer": "ipython3",
   "version": "3.8.10"
  },
  "orig_nbformat": 4,
  "vscode": {
   "interpreter": {
    "hash": "916dbcbb3f70747c44a77c7bcd40155683ae19c65e1c03b4aa3499c5328201f1"
   }
  }
 },
 "nbformat": 4,
 "nbformat_minor": 2
}
