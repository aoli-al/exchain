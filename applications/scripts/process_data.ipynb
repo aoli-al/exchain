{
 "cells": [
  {
   "cell_type": "code",
   "execution_count": 3,
   "metadata": {},
   "outputs": [
    {
     "name": "stdout",
     "output_type": "stream",
     "text": [
      "The autoreload extension is already loaded. To reload it, use:\n",
      "  %reload_ext autoreload\n"
     ]
    },
    {
     "name": "stderr",
     "output_type": "stream",
     "text": [
      "/usr/lib/python3/dist-packages/requests/__init__.py:89: RequestsDependencyWarning: urllib3 (1.25.8) or chardet (4.0.0) doesn't match a supported version!\n",
      "  warnings.warn(\"urllib3 ({}) or chardet ({}) doesn't match a supported \"\n"
     ]
    }
   ],
   "source": [
    "%load_ext autoreload\n",
    "%autoreload 2\n",
    "\n",
    "from runner import BENCHMARK_APPLICATIONS\n",
    "from process_results import *\n",
    "import os\n",
    "import pandas as pd"
   ]
  },
  {
   "cell_type": "code",
   "execution_count": 5,
   "metadata": {},
   "outputs": [
    {
     "name": "stdout",
     "output_type": "stream",
     "text": [
      "1 0 0\n",
      "1 0 0\n",
      "1 0 0\n",
      "1 0 0\n",
      "1 0 0\n",
      "1 3 0\n",
      "1 1 0\n",
      "5 0 0\n"
     ]
    }
   ],
   "source": [
    "\n",
    "data = {\n",
    "    \"name\": [],\n",
    "    \"num_exce\": [],\n",
    "    \"num_frame\": [],\n",
    "    \"exception_logged\": [],\n",
    "    \"dynamic\": [],\n",
    "    \"static\": [],\n",
    "    \"hybrid\": [],\n",
    "}\n",
    "\n",
    "for name, cls in BENCHMARK_APPLICATIONS.items():\n",
    "    data[\"name\"].append(name)\n",
    "    app = cls()\n",
    "    static_result_path = app.get_latest_result(\"static\")\n",
    "    exceptions = read_exceptions(os.path.join(static_result_path, \"exception.json\"))\n",
    "    ground_truth = app.read_ground_truth()\n",
    "    dynamic_dependency = app.read_latest_dynamic_dependency()\n",
    "\n",
    "    (tp, fp, fn) = process_dependency_result(dynamic_dependency, ground_truth)\n",
    "    print(tp, fp, fn)\n",
    "    \n",
    "\n",
    "\n",
    "\n"
   ]
  }
 ],
 "metadata": {
  "kernelspec": {
   "display_name": "Python 3",
   "language": "python",
   "name": "python3"
  },
  "language_info": {
   "codemirror_mode": {
    "name": "ipython",
    "version": 3
   },
   "file_extension": ".py",
   "mimetype": "text/x-python",
   "name": "python",
   "nbconvert_exporter": "python",
   "pygments_lexer": "ipython3",
   "version": "3.8.10"
  },
  "orig_nbformat": 4,
  "vscode": {
   "interpreter": {
    "hash": "916dbcbb3f70747c44a77c7bcd40155683ae19c65e1c03b4aa3499c5328201f1"
   }
  }
 },
 "nbformat": 4,
 "nbformat_minor": 2
}
