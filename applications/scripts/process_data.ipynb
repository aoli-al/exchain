{
 "cells": [
  {
   "cell_type": "code",
   "execution_count": 2,
   "metadata": {},
   "outputs": [
    {
     "name": "stderr",
     "output_type": "stream",
     "text": [
      "/usr/lib/python3/dist-packages/requests/__init__.py:89: RequestsDependencyWarning: urllib3 (1.25.8) or chardet (4.0.0) doesn't match a supported version!\n",
      "  warnings.warn(\"urllib3 ({}) or chardet ({}) doesn't match a supported \"\n"
     ]
    },
    {
     "data": {
      "image/png": "[encoded data removed]",
      "text/plain": [
       "<Figure size 360x72 with 1 Axes>"
      ]
     },
     "metadata": {},
     "output_type": "display_data"
    }
   ],
   "source": [
    "%load_ext autoreload\n",
    "%autoreload 2\n",
    "\n",
    "from runner import *\n",
    "from process_results import *\n",
    "import os\n",
    "import pandas as pd\n",
    "import matplotlib.pyplot as plt\n",
    "\n",
    "fig_dir = os.path.expanduser(\"~\") + \"/repos/exchain-paper/figs\"\n",
    "\n",
    "import seaborn as sns\n",
    "\n",
    "sns.set_style(\"whitegrid\", {'axes.grid' : True})\n",
    "sns.set_context(\"paper\", font_scale=1.5)\n",
    "\n",
    "plt.rcParams.update({'axes.edgecolor': 'black', 'axes.linewidth': 2, 'axes.grid': True, 'grid.linestyle': '--'})\n",
    "plt.rcParams['figure.figsize'] = 4, 3\n",
    "\n",
    "# colors = ['#FB8072', '#80B1D3', '#FDB462', '#B3DE69', '#FCCDE5', '#8DD3C7', '#FFFFB3', '#BEBADA']\n",
    "colors = ['#2A587A', '#FABC75', '#83B828', '#F83A25', '#FDD8EB']\n",
    "# colors = ['#648FFF', '#FFB000', '#DC267F','#FE6100', '#785EF0']\n",
    "sns.palplot(colors)\n",
    "sns.set_palette(sns.color_palette(colors), 5, 1)\n",
    "# sns.set_palette(\"ch:start=.2,rot=-.3\")\n",
    "line_style = dict(linewidth = 2, markersize = 8, err_style = \"bars\", dashes = False)\n",
    "sub_figure_title = {\"fontweight\": 700, 'fontname':'Times New Roman', 'fontsize': 18}\n",
    "plt.tight_layout()"
   ]
  },
  {
   "cell_type": "code",
   "execution_count": 3,
   "metadata": {},
   "outputs": [
    {
     "name": "stdout",
     "output_type": "stream",
     "text": [
      "1\n",
      "wicket_6908\n",
      "java.lang.RuntimeException:model still attached!:org.apache.wicket.testapplication.TestPage/onBeforeRender:49 -> java.lang.RuntimeException:model still attached!:org.apache.wicket.testapplication.TestPage/onBeforeRender:49\n",
      "\n",
      "java.lang.RuntimeException:model still attached!:org.apache.wicket.testapplication.TestPage/onBeforeRender:49 -> java.lang.RuntimeException:model still attached!:org.apache.wicket.testapplication.TestPage/onBeforeRender:49\n",
      "\n",
      "org.apache.wicket.markup.MarkupException:Unable to find component with id 'renderCount' in [Page class = org.apache.wicket.testapplication.TestPage2, id = 1, render count = 1]\tExpected: ':renderCount'.\tFound with similar names: '':org.apache.wicket.markup.MarkupStream/throwMarkupException:534 -> java.lang.RuntimeException:model still attached!:org.apache.wicket.testapplication.TestPage/onBeforeRender:49\n",
      "\n",
      "4\n",
      "jena_324\n",
      "12\n",
      "tomcat_65131\n",
      "50\n",
      "fineract_1211\n",
      "61\n",
      "mapreduce_6654\n",
      "42\n",
      "nifi_8249\n",
      "java.io.IOException:Could not obtain next record from ResultSet:org.apache.nifi.processors.standard.sql.RecordSqlWriter$ResultSetRecordSetWithCallback/next:158 -> java.io.IOException:Could not obtain next record from ResultSet:org.apache.nifi.processors.standard.sql.RecordSqlWriter$ResultSetRecordSetWithCallback/next:158\n",
      "\n",
      "java.io.IOException:Could not obtain next record from ResultSet:org.apache.nifi.processors.standard.sql.RecordSqlWriter$ResultSetRecordSetWithCallback/next:158 -> java.io.IOException:Could not obtain next record from ResultSet:org.apache.nifi.processors.standard.sql.RecordSqlWriter$ResultSetRecordSetWithCallback/next:158\n",
      "\n",
      "167\n",
      "solr_16363\n",
      "23\n",
      "hadoop_17812\n",
      "java.lang.NullPointerException:Cannot invoke \"com.amazonaws.services.s3.model.S3ObjectInputStream.read(byte[], int, int)\" because \"this.wrappedStream\" is null:org.apache.hadoop.fs.s3a.S3AInputStream/lambda$read$3:566 -> java.lang.NullPointerException:Cannot invoke \"com.amazonaws.services.s3.model.S3ObjectInputStream.read(byte[], int, int)\" because \"this.wrappedStream\" is null:org.apache.hadoop.fs.s3a.S3AInputStream/lambda$read$3:566\n",
      "\n",
      "java.lang.NullPointerException:Cannot invoke \"com.amazonaws.services.s3.model.S3ObjectInputStream.read(byte[], int, int)\" because \"this.wrappedStream\" is null:org.apache.hadoop.fs.s3a.S3AInputStream/lambda$read$3:566 -> java.lang.NullPointerException:Cannot invoke \"com.amazonaws.services.s3.model.S3ObjectInputStream.read(byte[], int, int)\" because \"this.wrappedStream\" is null:org.apache.hadoop.fs.s3a.S3AInputStream/lambda$read$3:566\n",
      "\n",
      "1\n",
      "wicket_6249\n",
      "java.lang.NullPointerException:Cannot invoke \"String.toLowerCase()\" because \"result\" is null:org.apache.wicket.testapplication.HomePage$LoadWrapper/load:39 -> java.lang.NullPointerException:Cannot invoke \"String.toLowerCase()\" because \"result\" is null:org.apache.wicket.testapplication.HomePage$LoadWrapper/load:39\n",
      "\n",
      "java.lang.NullPointerException:Cannot invoke \"String.toLowerCase()\" because \"result\" is null:org.apache.wicket.testapplication.HomePage$LoadWrapper/load:39 -> java.lang.NullPointerException:Cannot invoke \"String.toLowerCase()\" because \"result\" is null:org.apache.wicket.testapplication.HomePage$LoadWrapper/load:39\n",
      "\n",
      "36\n",
      "hdfs_4128\n",
      "33\n",
      "hive_13410\n"
     ]
    }
   ],
   "source": [
    "table_data = []\n",
    "result_data = []\n",
    "\n",
    "for name, app in TEST_APPLICATIONS.items():\n",
    "    table_data.append([])\n",
    "    result_data.append([])\n",
    "    table_data[-1].append(name.replace(\"_\", \"-\").upper())\n",
    "    result_data[-1].append(name.replace(\"_\", \"-\").upper())\n",
    "    ground_truth = app.read_ground_truth()\n",
    "    dynamic_dependency = app.read_latest_dynamic_dependency()\n",
    "    root_cause_in_log = check_root_cause_in_log(ground_truth, app.origin_log_path)\n",
    "    table_data[-1].append(app.is_async)\n",
    "    table_data[-1].append(root_cause_in_log)\n",
    "\n",
    "    table_data[-1].append(get_exception_distance(ground_truth,\n",
    "                                                   os.path.join(app.get_latest_result(\"dynamic\"), \"exception.json\")))\n",
    "    print(get_root_cause_location(ground_truth,\n",
    "                                                   os.path.join(app.get_latest_result(\"dynamic\"), \"exception.json\")))\n",
    "\n",
    "\n",
    "    dynamic_result_path = app.get_latest_result(\"dynamic\")\n",
    "    exceptions = read_exceptions(os.path.join(dynamic_result_path, \"exception.json\"))\n",
    "    table_data[-1].append(len(exceptions))\n",
    "    ground_truth = app.read_ground_truth()\n",
    "    dynamic_dependency = app.read_latest_dynamic_dependency()\n",
    "    print(name)\n",
    "    # for item in dynamic_dependency:\n",
    "    #     print(item)\n",
    "    # print(dynamic_dependency)\n",
    "\n",
    "\n",
    "    static_dependency = app.read_latest_static_dependency()\n",
    "    hybrid_online, hybrid_offline = app.read_latest_hybrid_dependency()\n",
    "    result_data[-1].extend(process_dependency_result(hybrid_online + hybrid_offline, ground_truth))\n",
    "    result_data[-1].extend(process_dependency_result(hybrid_online, ground_truth))\n",
    "    result_data[-1].extend(process_dependency_result(hybrid_offline, ground_truth))\n",
    "    result_data[-1].extend(process_dependency_result(static_dependency, ground_truth))\n",
    "\n",
    "    result_data[-1].extend(process_dependency_result(dynamic_dependency, ground_truth))\n",
    "save_as_latex_table(table_data, os.path.join(fig_dir, \"issue_desc.tex\"))\n",
    "save_as_latex_table(result_data, os.path.join(fig_dir, \"issue_result.tex\"))"
   ]
  },
  {
   "cell_type": "code",
   "execution_count": 5,
   "metadata": {},
   "outputs": [
    {
     "name": "stdout",
     "output_type": "stream",
     "text": [
      "latency\n",
      "SI+Static avg 1.058549558257308\n",
      "\\sc{ExChain} avg 1.07842401145877\n",
      "SI+Dynamic avg 21.519857829333887\n",
      "throughput\n",
      "SI+Static avg 0.9507831153752769\n",
      "\\sc{ExChain} avg 0.9469762699565605\n",
      "SI+Dynamic avg 0.14684309585146876\n"
     ]
    },
    {
     "data": {
      "text/plain": [
       "<Figure size 576x288 with 0 Axes>"
      ]
     },
     "metadata": {},
     "output_type": "display_data"
    }
   ],
   "source": [
    "\n",
    "table_data = []\n",
    "\n",
    "perf_result = {}\n",
    "for name, app in BENCH_APPLICATIONS.items():\n",
    "    separate_results = [\"fineract_bench\", \"jena_bench\"]\n",
    "    if \"jena\" in name:\n",
    "        continue\n",
    "    read_perf_result(app, perf_result)\n",
    "for key, value in perf_result.items():\n",
    "    print(key)\n",
    "    df = pd.DataFrame(value, columns=[\"Application\", \"System\", key.capitalize()])\n",
    "    for sys in set(df[\"System\"]):\n",
    "        avg = 0\n",
    "        for app in set(df['Application']):\n",
    "            v = df[df['Application'] == app]\n",
    "            v = v[v[\"System\"] == sys]\n",
    "            # print(app, sys, v[key.capitalize()].mean() - 1)\n",
    "            avg += v[key.capitalize()].mean()\n",
    "        avg /= 6\n",
    "        print(sys, \"avg\", avg)\n",
    "\n",
    "\n",
    "\n",
    "save_perf_data_to_pdf(perf_result, fig_dir)\n",
    "\n"
   ]
  },
  {
   "cell_type": "code",
   "execution_count": 21,
   "metadata": {},
   "outputs": [
    {
     "name": "stdout",
     "output_type": "stream",
     "text": [
      "(True, 0)\n",
      "wicket_6908 13.09579062461853 20.15886878967285\n",
      "(True, 0)\n",
      "jena_324 319.458904504776 233.07073307037354\n",
      "(False, 0)\n",
      "tomcat_65131 7.332220554351807 5.127790927886963\n",
      "(False, 0)\n",
      "fineract_1211 88.45979237556458 34.29286479949951\n",
      "(True, 0)\n",
      "mapreduce_6654 3613.968741416931 168.196307182312\n",
      "(False, 0)\n",
      "nifi_8249 367.45970153808594 236.90954613685608\n",
      "(False, 0)\n",
      "solr_16363 256.6314284801483 103.09499096870422\n",
      "(True, 0)\n",
      "hadoop_17812 464.4471251964569 690.8662927150726\n",
      "(False, 0)\n",
      "wicket_6249 8.13386082649231 11.791112184524536\n",
      "(True, 0)\n",
      "hdfs_4128 605.9486541748047 402.3261559009552\n",
      "(True, 0)\n",
      "hive_13410 5167.299909591675 2281.686991214752\n"
     ]
    }
   ],
   "source": [
    "\n",
    "table_data = []\n",
    "\n",
    "for name, app in TEST_APPLICATIONS.items():\n",
    "    ground_truth = app.read_ground_truth()\n",
    "    table_data.append([])\n",
    "    table_data[-1].append(name.replace(\"_\", \"-\").upper())\n",
    "    t1 = open(os.path.join(app.out_path, \"hybrid-results\", \"time.txt\")).read().strip()\n",
    "    t2 = open(os.path.join(app.out_path, \"hybrid-results\", \"time.naive.txt\")).read().strip()\n",
    "\n",
    "    static_dependency = app.read_latest_naive_static_dependency()\n",
    "    dynamic_dependency, _ = app.read_latest_hybrid_dependency()\n",
    "    # print(static_dependency)\n",
    "    # print(dynamic_dependency)\n",
    "    result = (process_dependency_result(static_dependency + dynamic_dependency, ground_truth))\n",
    "    print(result)\n",
    "    print(name, t1, t2)\n",
    "    table_data[-1].append(result[0])\n",
    "    table_data[-1].append(float(t1))\n",
    "    table_data[-1].append(float(t2))\n",
    "save_as_latex_table(table_data, os.path.join(fig_dir, \"static-cmp.tex\"))"
   ]
  },
  {
   "cell_type": "code",
   "execution_count": 2,
   "metadata": {},
   "outputs": [
    {
     "name": "stderr",
     "output_type": "stream",
     "text": [
      "/tmp/ipykernel_2361168/3339526115.py:1: ParserWarning: Falling back to the 'python' engine because the 'c' engine does not support regex separators (separators > 1 char and different from '\\s+' are interpreted as regex); you can avoid this warning by specifying engine='python'.\n",
      "  data = pd.read_csv(\"./data/result.csv\", header=0, sep=',\\s+',)\n"
     ]
    },
    {
     "name": "stdout",
     "output_type": "stream",
     "text": [
      "        Name    Type     Ratio\n",
      "0     HADOOP  assign  8.478420\n",
      "1     HADOOP    call  2.619085\n",
      "2     HADOOP  return  6.369375\n",
      "3   FINERACT  assign  0.167793\n",
      "4   FINERACT    call  2.305971\n",
      "5   FINERACT  return  3.025453\n",
      "6     WICKET  assign  1.442857\n",
      "7     WICKET    call  1.604203\n",
      "8     WICKET  return  4.979329\n",
      "9       NIFI  assign  0.908752\n",
      "10      NIFI    call  0.841363\n",
      "11      NIFI  return  2.766091\n",
      "12      JENA  assign  5.993027\n",
      "13      JENA    call  2.667229\n",
      "14      JENA  return  3.477916\n",
      "15    TOMCAT  assign  2.923520\n",
      "16    TOMCAT    call  2.280900\n",
      "17    TOMCAT  return  8.418938\n",
      "18      SOLR  assign  2.466059\n",
      "19      SOLR    call  1.867025\n",
      "20      SOLR  return  4.606708\n",
      "21      HIVE  assign  3.922401\n",
      "22      HIVE    call  3.993683\n",
      "23      HIVE  return  3.819853\n"
     ]
    },
    {
     "data": {
      "image/png": "[encoded data removed]",
      "text/plain": [
       "<Figure size 576x288 with 1 Axes>"
      ]
     },
     "metadata": {},
     "output_type": "display_data"
    }
   ],
   "source": [
    "data = pd.read_csv(\"./data/result.csv\", header=0, sep=',\\s+',)\n",
    "data[\"Name\"] = data[\"Name\"].str.upper()\n",
    "plt.rcParams['figure.figsize'] = 8, 4\n",
    "draw_dist(data, os.path.join(fig_dir, \"app-dist.pdf\"))\n",
    "print(data)\n"
   ]
  },
  {
   "cell_type": "code",
   "execution_count": null,
   "metadata": {},
   "outputs": [],
   "source": []
  },
  {
   "cell_type": "code",
   "execution_count": 23,
   "metadata": {},
   "outputs": [
    {
     "name": "stdout",
     "output_type": "stream",
     "text": [
      "                              Latency\n",
      "Application System                   \n",
      "FINERACT    dynamic       4011.216313\n",
      "            hybrid          10.802154\n",
      "            origin-debug     2.912018\n",
      "            origin-noopt     9.416541\n",
      "            static           4.849061\n",
      "HADOOP      dynamic         87.049431\n",
      "            hybrid           7.813604\n",
      "            origin-debug     0.085134\n",
      "            origin-noopt     4.030220\n",
      "            static           0.119402\n",
      "HDFS        dynamic        424.041496\n",
      "            hybrid          13.158971\n",
      "            origin-debug     1.776739\n",
      "            origin-noopt     4.196376\n",
      "            static           2.352425\n",
      "MAPREDUCE   dynamic       5015.419885\n",
      "            hybrid          11.272570\n",
      "            origin-debug    13.562967\n",
      "            origin-noopt     7.462452\n",
      "            static           9.595066\n",
      "TOMCAT      dynamic       1758.627136\n",
      "            hybrid          13.437555\n",
      "            origin-debug     2.135455\n",
      "            origin-noopt    11.940729\n",
      "            static           7.529297\n",
      "WICKET      dynamic        895.045114\n",
      "            hybrid          20.203152\n",
      "            origin-debug     9.411986\n",
      "            origin-noopt     9.848506\n",
      "            static          14.502632\n",
      "System             Local      JVMTi   Logging      Inst      Taint\n",
      "Application                                                       \n",
      "FINERACT     4006.367252   2.912018  1.937043  4.567480   1.385614\n",
      "HADOOP         86.930029   0.085134  0.034268  3.910818   3.783384\n",
      "HDFS          421.689071   1.776739  0.575687  1.843951   8.962595\n",
      "MAPREDUCE    5005.824819  13.562967 -3.967901 -2.132614   3.810118\n",
      "TOMCAT       1751.097839   2.135455  5.393842  4.411433   1.496826\n",
      "WICKET        880.542482   9.411986  5.090646 -4.654126  10.354646\n",
      "                            Latency\n",
      "Application System                 \n",
      "FINERACT    dynamic       97.532273\n",
      "            hybrid         9.665812\n",
      "            origin-debug   2.830205\n",
      "            origin-noopt   8.500243\n",
      "            static         4.581668\n",
      "HADOOP      dynamic       47.575330\n",
      "            hybrid         7.768362\n",
      "            origin-debug   0.086315\n",
      "            origin-noopt   3.774325\n",
      "            static         0.062775\n",
      "HDFS        dynamic       80.565142\n",
      "            hybrid         5.993928\n",
      "            origin-debug   1.700823\n",
      "            origin-noopt   2.769835\n",
      "            static         2.210446\n",
      "SOLR        dynamic       98.622492\n",
      "            hybrid        28.729001\n",
      "            origin-debug   5.388841\n",
      "            origin-noopt  27.993165\n",
      "            static         4.837861\n",
      "TOMCAT      dynamic       94.622843\n",
      "            hybrid        12.007565\n",
      "            origin-debug   2.276886\n",
      "            origin-noopt  10.754564\n",
      "            static         7.262260\n",
      "WICKET      dynamic       89.943286\n",
      "            hybrid        16.683384\n",
      "            origin-debug   8.590094\n",
      "            origin-noopt   9.026288\n",
      "            static        12.581796\n",
      "System           Local     JVMTi   Logging       Inst     Taint\n",
      "Application                                                    \n",
      "FINERACT     92.950605  2.830205  1.751463   3.918575  1.165569\n",
      "HADOOP       47.512555  0.086315 -0.023540   3.711551  3.994036\n",
      "HDFS         78.354696  1.700823  0.509623   0.559389  3.224092\n",
      "SOLR         93.784631  5.388841 -0.550980  23.155304  0.735836\n",
      "TOMCAT       87.360583  2.276886  4.985374   3.492304  1.253001\n",
      "WICKET       77.361490  8.590094  3.991702  -3.555508  7.657096\n"
     ]
    },
    {
     "data": {
      "text/plain": [
       "<Figure size 576x288 with 0 Axes>"
      ]
     },
     "metadata": {},
     "output_type": "display_data"
    }
   ],
   "source": [
    "\n",
    "table_data = []\n",
    "\n",
    "perf_result = {}\n",
    "for name, app in BENCH_APPLICATIONS.items():\n",
    "    read_perf_result(app, perf_result, [\"origin\", \"static\", \"origin-debug\", \"hybrid\", \"origin-noopt\", \"dynamic\"], False, False)\n",
    "for key, value in perf_result.items():\n",
    "    df = pd.DataFrame(perf_result[key], columns=[\"Application\", \"System\", \"Latency\"])\n",
    "    df = df.groupby([\"Application\", \"System\"]).mean()\n",
    "    df[\"Latency\"] -= 1\n",
    "    if key != \"latency\":\n",
    "        df[\"Latency\"] = -df[\"Latency\"]\n",
    "    df[\"Latency\"] *= 100\n",
    "    print(df)\n",
    "    pivot_df = df.pivot_table(values='Latency', index=['Application'], columns=['System'])\n",
    "    pivot_df[\"Local\"] = pivot_df['dynamic'] - pivot_df['static']\n",
    "    pivot_df[\"JVMTi\"] = pivot_df['origin-debug']\n",
    "    pivot_df[\"Logging\"] = pivot_df[\"static\"] - pivot_df['origin-debug']\n",
    "    pivot_df[\"Inst\"] = pivot_df[\"origin-noopt\"] - pivot_df['static']\n",
    "    pivot_df[\"Taint\"] = pivot_df[\"hybrid\"] - pivot_df['origin-noopt']\n",
    "    pivot_df = pivot_df.drop([\"hybrid\", \"static\", \"origin-debug\", \"hybrid\", \"origin-noopt\", \"dynamic\"], axis=1)\n",
    "    print(pivot_df)\n",
    "    pivot_df[pivot_df < 0] = 0\n",
    "    pivot_df = pivot_df.unstack().reset_index()\n",
    "    save_stacked_perf_to_pdf(pivot_df, os.path.join(fig_dir, f\"stacked-{key}.pdf\"), key.capitalize())"
   ]
  }
 ],
 "metadata": {
  "kernelspec": {
   "display_name": "Python 3",
   "language": "python",
   "name": "python3"
  },
  "language_info": {
   "codemirror_mode": {
    "name": "ipython",
    "version": 3
   },
   "file_extension": ".py",
   "mimetype": "text/x-python",
   "name": "python",
   "nbconvert_exporter": "python",
   "pygments_lexer": "ipython3",
   "version": "3.10.12"
  },
  "orig_nbformat": 4,
  "vscode": {
   "interpreter": {
    "hash": "916dbcbb3f70747c44a77c7bcd40155683ae19c65e1c03b4aa3499c5328201f1"
   }
  }
 },
 "nbformat": 4,
 "nbformat_minor": 2
}
