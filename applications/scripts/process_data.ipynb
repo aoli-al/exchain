{
 "cells": [
  {
   "cell_type": "code",
   "execution_count": 1,
   "metadata": {},
   "outputs": [],
   "source": [
    "%load_ext autoreload\n",
    "%autoreload 2\n",
    "\n"
   ]
  },
  {
   "cell_type": "code",
   "execution_count": 2,
   "metadata": {},
   "outputs": [
    {
     "name": "stderr",
     "output_type": "stream",
     "text": [
      "/usr/lib/python3/dist-packages/requests/__init__.py:89: RequestsDependencyWarning: urllib3 (1.25.8) or chardet (4.0.0) doesn't match a supported version!\n",
      "  warnings.warn(\"urllib3 ({}) or chardet ({}) doesn't match a supported \"\n"
     ]
    }
   ],
   "source": [
    "from runner import *\n",
    "from process_results import *\n",
    "import os\n",
    "import pandas as pd"
   ]
  },
  {
   "cell_type": "code",
   "execution_count": 3,
   "metadata": {},
   "outputs": [
    {
     "name": "stdout",
     "output_type": "stream",
     "text": [
      "             name  num_exce  num_frame  is_async  logged dynamic static  \\\n",
      "0        jena_324      1383       8310      True    True   1/0/0  0/1/1   \n",
      "1    tomcat_65131        23         84     False   False   1/0/0  0/0/1   \n",
      "2   fineract_1211        77        311     False    True   1/0/0  1/0/0   \n",
      "3  mapreduce_6654       124        486     False    True   2/0/0  0/0/2   \n",
      "4       nifi_8249        79       2642      True    True   2/0/0  0/3/2   \n",
      "5      solr_16363       442       1927      True   False   1/0/0  0/1/1   \n",
      "6    hadoop_17812        33        127     False   False   1/0/0  0/1/1   \n",
      "7     wicket_6249        13        103      True   False   1/0/0  1/0/0   \n",
      "8       hdfs_4128       124        473      True   False   1/0/0  0/0/1   \n",
      "9      hive_13410        49        278      True   False   5/0/0  0/0/5   \n",
      "\n",
      "  hybrid_online hybrid_offline  distance  running_service  \n",
      "0         1/0/0          0/1/1      1378             True  \n",
      "1         0/0/1          0/0/1         0             True  \n",
      "2         0/0/1          1/0/0         0             True  \n",
      "3         1/0/1          0/0/2        11             True  \n",
      "4         0/0/2          0/2/2         0            False  \n",
      "5         0/0/1          0/2/1         1             True  \n",
      "6         1/0/0          0/1/1         0             True  \n",
      "7         0/0/1          1/0/0         8             True  \n",
      "8         1/0/0          0/0/1         6             True  \n",
      "9         1/0/4          0/0/5        10             True  \n"
     ]
    }
   ],
   "source": [
    "\n",
    "data = {\n",
    "    \"name\": [],\n",
    "    \"num_exce\": [],\n",
    "    \"num_frame\": [],\n",
    "    \"is_async\": [],\n",
    "    \"logged\": [],\n",
    "    \"dynamic\": [],\n",
    "    \"static\": [],\n",
    "    \"hybrid_online\": [],\n",
    "    \"hybrid_offline\": [],\n",
    "    \"distance\": [], \n",
    "    \"running_service\": []\n",
    "}\n",
    "\n",
    "for name, app in TEST_APPLICATIONS.items():\n",
    "    data[\"name\"].append(name)\n",
    "    ground_truth = app.read_ground_truth()\n",
    "    dynamic_dependency = app.read_latest_dynamic_dependency()\n",
    "    root_cause_in_log = check_root_cause_in_log(ground_truth, app.origin_log_path)\n",
    "    data[\"is_async\"].append(app.is_async)\n",
    "    data[\"logged\"].append(root_cause_in_log)\n",
    "\n",
    "    (tp, fp, fn) = process_dependency_result(dynamic_dependency, ground_truth)\n",
    "    data[\"dynamic\"].append(f\"{tp}/{fp}/{fn}\")\n",
    "\n",
    "    static_dependency = app.read_latest_static_dependency()\n",
    "    (tp, fp, fn) = process_dependency_result(static_dependency, ground_truth)\n",
    "    data[\"static\"].append(f\"{tp}/{fp}/{fn}\")\n",
    "\n",
    "    hybrid_online, hybrid_offline = app.read_latest_hybrid_dependency()\n",
    "    (tp, fp, fn) = process_dependency_result(hybrid_online, ground_truth)\n",
    "    data[\"hybrid_online\"].append(f\"{tp}/{fp}/{fn}\")\n",
    "    (tp, fp, fn) = process_dependency_result(hybrid_offline, ground_truth)\n",
    "    data[\"hybrid_offline\"].append(f\"{tp}/{fp}/{fn}\")\n",
    "    data[\"distance\"].append(get_exception_distance(ground_truth,\n",
    "                                                   os.path.join(app.get_latest_result(\"dynamic\"), \"exception.json\")))\n",
    "\n",
    "\n",
    "    dynamic_result_path = app.get_latest_result(\"dynamic\")\n",
    "    exceptions = read_exceptions(os.path.join(dynamic_result_path, \"exception.json\"))\n",
    "    data['num_exce'].append(len(exceptions))\n",
    "    data[\"num_frame\"].append(len(open(os.path.join(app.get_latest_result(\n",
    "        \"dynamic\"), \"affected-var-results.json\")).readlines()))\n",
    "\n",
    "    data['running_service'].append(app.is_running_service)\n",
    "\n",
    "df = pd.DataFrame(data)\n",
    "print(df)"
   ]
  },
  {
   "cell_type": "code",
   "execution_count": 3,
   "metadata": {},
   "outputs": [
    {
     "name": "stdout",
     "output_type": "stream",
     "text": [
      "fineract_bench\n",
      "jena_bench\n",
      "solr_bench\n",
      "hadoop_terasort\n",
      "tomcat_bench\n",
      "hadoop_dfs_write\n",
      "               name      type   origin          static          hybrid  \\\n",
      "0    fineract_bench   tpr(ms)     12.8      13.7, 6.9%     15.8, 23.9%   \n",
      "1        jena_bench   tpr(ms)      0.2       0.2, 5.6%     1.0, 402.8%   \n",
      "2        solr_bench  tp(op/s)  16507.6  15953.4, -3.4%            XXXX   \n",
      "3   hadoop_terasort   time(s)     21.2     23.7, 11.7%     27.0, 27.3%   \n",
      "4      tomcat_bench   tpr(ms)      5.7       6.1, 7.2%      7.1, 25.7%   \n",
      "5  hadoop_dfs_write  tp(op/s)   2162.6   2158.9, -0.2%  1912.8, -11.6%   \n",
      "6  hadoop_dfs_write   time(s)      4.3       4.3, 0.2%      5.5, 26.3%   \n",
      "\n",
      "           dynamic  \n",
      "0   257.8, 1917.7%  \n",
      "1   59.8, 29557.4%  \n",
      "2     0.6, -100.0%  \n",
      "3  1244.9, 5764.8%  \n",
      "4   101.3, 1692.4%  \n",
      "5    328.3, -84.8%  \n",
      "6     25.4, 485.7%  \n"
     ]
    }
   ],
   "source": [
    "\n",
    "data = {\n",
    "    \"name\": [],\n",
    "    \"type\": [],\n",
    "    \"origin\": [],\n",
    "    \"static\": [],\n",
    "    \"hybrid\": [], \n",
    "    \"dynamic\": []\n",
    "}\n",
    "for name, app in BENCH_APPLICATIONS.items():\n",
    "    separate_results = [\"fineract_bench\", \"jena_bench\"]\n",
    "    print(name)\n",
    "\n",
    "    origin_perf_result = app.perf_result_path(\"origin\")\n",
    "    static_perf_result = app.perf_result_path(\"static\")\n",
    "    hybrid_perf_result = app.perf_result_path(\"hybrid\")\n",
    "    dynamic_perf_result = app.perf_result_path(\"dynamic\")\n",
    "\n",
    "    if name in separate_results:\n",
    "        result = read_separate_perf_result([origin_perf_result, static_perf_result, hybrid_perf_result, dynamic_perf_result])\n",
    "    else:\n",
    "        result = read_aggregate_perf_result([origin_perf_result, static_perf_result, hybrid_perf_result, dynamic_perf_result])\n",
    "    \n",
    "    for key, value in result.items():\n",
    "        if key == \"tpr\":\n",
    "            m = \"ms\"\n",
    "        if key == \"throughput\":\n",
    "            m = \"op/s\"\n",
    "            key = \"tp\"\n",
    "        if key == \"exec_time\":\n",
    "            m = \"s\"\n",
    "            key = \"time\"\n",
    "        data[\"name\"].append(name)\n",
    "        data[\"type\"].append(key + f\"({m})\")\n",
    "        data[\"origin\"].append(value[0])\n",
    "        data[\"static\"].append(value[1])\n",
    "        if name == \"solr_bench\":\n",
    "            data[\"hybrid\"].append(\"XXXX\")\n",
    "        else:\n",
    "            data[\"hybrid\"].append(value[2])\n",
    "        data[\"dynamic\"].append(value[3])\n",
    "df = pd.DataFrame(data)\n",
    "print(df)\n",
    "    \n",
    "\n"
   ]
  },
  {
   "cell_type": "code",
   "execution_count": null,
   "metadata": {},
   "outputs": [],
   "source": []
  }
 ],
 "metadata": {
  "kernelspec": {
   "display_name": "Python 3",
   "language": "python",
   "name": "python3"
  },
  "language_info": {
   "codemirror_mode": {
    "name": "ipython",
    "version": 3
   },
   "file_extension": ".py",
   "mimetype": "text/x-python",
   "name": "python",
   "nbconvert_exporter": "python",
   "pygments_lexer": "ipython3",
   "version": "3.8.10"
  },
  "orig_nbformat": 4,
  "vscode": {
   "interpreter": {
    "hash": "916dbcbb3f70747c44a77c7bcd40155683ae19c65e1c03b4aa3499c5328201f1"
   }
  }
 },
 "nbformat": 4,
 "nbformat_minor": 2
}
