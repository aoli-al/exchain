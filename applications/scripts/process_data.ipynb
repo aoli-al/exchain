{
 "cells": [
  {
   "cell_type": "code",
   "execution_count": 2,
   "metadata": {},
   "outputs": [],
   "source": [
    "%load_ext autoreload\n",
    "%autoreload 2\n",
    "\n"
   ]
  },
  {
   "cell_type": "code",
   "execution_count": 3,
   "metadata": {},
   "outputs": [
    {
     "name": "stderr",
     "output_type": "stream",
     "text": [
      "/usr/lib/python3/dist-packages/requests/__init__.py:89: RequestsDependencyWarning: urllib3 (1.25.8) or chardet (4.0.0) doesn't match a supported version!\n",
      "  warnings.warn(\"urllib3 ({}) or chardet ({}) doesn't match a supported \"\n"
     ]
    }
   ],
   "source": [
    "from runner import *\n",
    "from process_results import *\n",
    "import os\n",
    "import pandas as pd"
   ]
  },
  {
   "cell_type": "code",
   "execution_count": 4,
   "metadata": {},
   "outputs": [
    {
     "ename": "FileNotFoundError",
     "evalue": "[Errno 2] No such file or directory: '/usr0/home/aoli/repos/exchain/applications/scripts/data/wicket-6908.json'",
     "output_type": "error",
     "traceback": [
      "\u001b[0;31m---------------------------------------------------------------------------\u001b[0m",
      "\u001b[0;31mFileNotFoundError\u001b[0m                         Traceback (most recent call last)",
      "\u001b[0;32m/tmp/ipykernel_3084266/2844996983.py\u001b[0m in \u001b[0;36m<module>\u001b[0;34m\u001b[0m\n\u001b[1;32m     15\u001b[0m \u001b[0;32mfor\u001b[0m \u001b[0mname\u001b[0m\u001b[0;34m,\u001b[0m \u001b[0mapp\u001b[0m \u001b[0;32min\u001b[0m \u001b[0mTEST_APPLICATIONS\u001b[0m\u001b[0;34m.\u001b[0m\u001b[0mitems\u001b[0m\u001b[0;34m(\u001b[0m\u001b[0;34m)\u001b[0m\u001b[0;34m:\u001b[0m\u001b[0;34m\u001b[0m\u001b[0;34m\u001b[0m\u001b[0m\n\u001b[1;32m     16\u001b[0m     \u001b[0mdata\u001b[0m\u001b[0;34m[\u001b[0m\u001b[0;34m\"name\"\u001b[0m\u001b[0;34m]\u001b[0m\u001b[0;34m.\u001b[0m\u001b[0mappend\u001b[0m\u001b[0;34m(\u001b[0m\u001b[0mname\u001b[0m\u001b[0;34m)\u001b[0m\u001b[0;34m\u001b[0m\u001b[0;34m\u001b[0m\u001b[0m\n\u001b[0;32m---> 17\u001b[0;31m     \u001b[0mground_truth\u001b[0m \u001b[0;34m=\u001b[0m \u001b[0mapp\u001b[0m\u001b[0;34m.\u001b[0m\u001b[0mread_ground_truth\u001b[0m\u001b[0;34m(\u001b[0m\u001b[0;34m)\u001b[0m\u001b[0;34m\u001b[0m\u001b[0;34m\u001b[0m\u001b[0m\n\u001b[0m\u001b[1;32m     18\u001b[0m     \u001b[0mdynamic_dependency\u001b[0m \u001b[0;34m=\u001b[0m \u001b[0mapp\u001b[0m\u001b[0;34m.\u001b[0m\u001b[0mread_latest_dynamic_dependency\u001b[0m\u001b[0;34m(\u001b[0m\u001b[0;34m)\u001b[0m\u001b[0;34m\u001b[0m\u001b[0;34m\u001b[0m\u001b[0m\n\u001b[1;32m     19\u001b[0m     \u001b[0mroot_cause_in_log\u001b[0m \u001b[0;34m=\u001b[0m \u001b[0mcheck_root_cause_in_log\u001b[0m\u001b[0;34m(\u001b[0m\u001b[0mground_truth\u001b[0m\u001b[0;34m,\u001b[0m \u001b[0mapp\u001b[0m\u001b[0;34m.\u001b[0m\u001b[0morigin_log_path\u001b[0m\u001b[0;34m)\u001b[0m\u001b[0;34m\u001b[0m\u001b[0;34m\u001b[0m\u001b[0m\n",
      "\u001b[0;32m~/repos/exchain/applications/scripts/test_case_base.py\u001b[0m in \u001b[0;36mread_ground_truth\u001b[0;34m(self)\u001b[0m\n\u001b[1;32m     60\u001b[0m \u001b[0;34m\u001b[0m\u001b[0m\n\u001b[1;32m     61\u001b[0m     \u001b[0;32mdef\u001b[0m \u001b[0mread_ground_truth\u001b[0m\u001b[0;34m(\u001b[0m\u001b[0mself\u001b[0m\u001b[0;34m)\u001b[0m \u001b[0;34m->\u001b[0m \u001b[0mList\u001b[0m\u001b[0;34m[\u001b[0m\u001b[0mTuple\u001b[0m\u001b[0;34m[\u001b[0m\u001b[0mLink\u001b[0m\u001b[0;34m,\u001b[0m \u001b[0mLinkType\u001b[0m\u001b[0;34m]\u001b[0m\u001b[0;34m]\u001b[0m\u001b[0;34m:\u001b[0m\u001b[0;34m\u001b[0m\u001b[0;34m\u001b[0m\u001b[0m\n\u001b[0;32m---> 62\u001b[0;31m         \u001b[0mdata\u001b[0m \u001b[0;34m=\u001b[0m \u001b[0mjsonpickle\u001b[0m\u001b[0;34m.\u001b[0m\u001b[0mdecode\u001b[0m\u001b[0;34m(\u001b[0m\u001b[0mopen\u001b[0m\u001b[0;34m(\u001b[0m\u001b[0mself\u001b[0m\u001b[0;34m.\u001b[0m\u001b[0mground_truth_path\u001b[0m\u001b[0;34m)\u001b[0m\u001b[0;34m.\u001b[0m\u001b[0mread\u001b[0m\u001b[0;34m(\u001b[0m\u001b[0;34m)\u001b[0m\u001b[0;34m)\u001b[0m\u001b[0;34m\u001b[0m\u001b[0;34m\u001b[0m\u001b[0m\n\u001b[0m\u001b[1;32m     63\u001b[0m         \u001b[0;32mreturn\u001b[0m \u001b[0mdata\u001b[0m\u001b[0;34m\u001b[0m\u001b[0;34m\u001b[0m\u001b[0m\n\u001b[1;32m     64\u001b[0m \u001b[0;34m\u001b[0m\u001b[0m\n",
      "\u001b[0;31mFileNotFoundError\u001b[0m: [Errno 2] No such file or directory: '/usr0/home/aoli/repos/exchain/applications/scripts/data/wicket-6908.json'"
     ]
    }
   ],
   "source": [
    "\n",
    "data = {\n",
    "    \"name\": [],\n",
    "    \"num_exce\": [],\n",
    "    \"num_frame\": [],\n",
    "    \"is_async\": [],\n",
    "    \"logged\": [],\n",
    "    \"dynamic\": [],\n",
    "    \"static\": [],\n",
    "    \"hybrid_online\": [],\n",
    "    \"hybrid_offline\": [],\n",
    "    \"distance\": [], \n",
    "    \"running_service\": []\n",
    "}\n",
    "\n",
    "for name, app in TEST_APPLICATIONS.items():\n",
    "    data[\"name\"].append(name)\n",
    "    ground_truth = app.read_ground_truth()\n",
    "    dynamic_dependency = app.read_latest_dynamic_dependency()\n",
    "    root_cause_in_log = check_root_cause_in_log(ground_truth, app.origin_log_path)\n",
    "    data[\"is_async\"].append(app.is_async)\n",
    "    data[\"logged\"].append(root_cause_in_log)\n",
    "\n",
    "    (tp, fp, fn) = process_dependency_result(dynamic_dependency, ground_truth)\n",
    "    data[\"dynamic\"].append(f\"{tp}/{fp}/{fn}\")\n",
    "\n",
    "    static_dependency = app.read_latest_static_dependency()\n",
    "    (tp, fp, fn) = process_dependency_result(static_dependency, ground_truth)\n",
    "    data[\"static\"].append(f\"{tp}/{fp}/{fn}\")\n",
    "\n",
    "    hybrid_online, hybrid_offline = app.read_latest_hybrid_dependency()\n",
    "    (tp, fp, fn) = process_dependency_result(hybrid_online, ground_truth)\n",
    "    data[\"hybrid_online\"].append(f\"{tp}/{fp}/{fn}\")\n",
    "    (tp, fp, fn) = process_dependency_result(hybrid_offline, ground_truth)\n",
    "    data[\"hybrid_offline\"].append(f\"{tp}/{fp}/{fn}\")\n",
    "    data[\"distance\"].append(get_exception_distance(ground_truth,\n",
    "                                                   os.path.join(app.get_latest_result(\"dynamic\"), \"exception.json\")))\n",
    "\n",
    "\n",
    "    dynamic_result_path = app.get_latest_result(\"dynamic\")\n",
    "    exceptions = read_exceptions(os.path.join(dynamic_result_path, \"exception.json\"))\n",
    "    data['num_exce'].append(len(exceptions))\n",
    "    data[\"num_frame\"].append(len(open(os.path.join(app.get_latest_result(\n",
    "        \"dynamic\"), \"affected-var-results.json\")).readlines()))\n",
    "\n",
    "    data['running_service'].append(app.is_running_service)\n",
    "\n",
    "df = pd.DataFrame(data)\n",
    "print(df)"
   ]
  },
  {
   "cell_type": "code",
   "execution_count": 10,
   "metadata": {},
   "outputs": [
    {
     "name": "stdout",
     "output_type": "stream",
     "text": [
      "fineract_bench\n",
      "jena_bench\n",
      "hadoop_nnbench\n",
      "wicket_bench\n",
      "solr_bench\n",
      "hadoop_terasort\n",
      "tomcat_bench\n",
      "hadoop_dfs_write\n",
      "               name   origin    std   static    std   diff   hybrid   std  \\\n",
      "0    fineract_bench     12.8    0.1     13.7    0.1   7.1%     16.1   0.1   \n",
      "1    hadoop_nnbench   1542.0    7.0   1528.2    6.3  -0.9%   1216.1   2.7   \n",
      "2      wicket_bench     26.7    1.2     27.8    1.1   4.1%     31.0   0.7   \n",
      "3        solr_bench  16623.6  111.2  16095.6  105.6  -3.2%  12062.7  86.4   \n",
      "4   hadoop_terasort     20.6    0.0     22.7    0.1  10.0%     26.9   0.3   \n",
      "5      tomcat_bench     15.3    2.8     15.5    0.9   1.3%     17.3   2.1   \n",
      "6  hadoop_dfs_write   2136.5   31.8   2125.5   27.4  -0.5%   1810.3  14.3   \n",
      "\n",
      "     diff dynamic   std     diff  \n",
      "0   25.3%   205.4  11.8  1503.0%  \n",
      "1  -21.1%   690.8   2.0   -55.2%  \n",
      "2   16.2%   457.8  16.3  1613.5%  \n",
      "3  -27.4%   220.2  29.1   -98.7%  \n",
      "4   30.4%  1231.8  32.5  5871.5%  \n",
      "5   13.1%   243.9   3.9  1496.8%  \n",
      "6  -15.3%   316.5  16.6   -85.2%  \n"
     ]
    }
   ],
   "source": [
    "\n",
    "data = {\n",
    "    \"name\": [],\n",
    "    \"type\": [],\n",
    "    \"origin\": [],\n",
    "    \"static\": [],\n",
    "    \"hybrid\": [], \n",
    "    \"dynamic\": []\n",
    "}\n",
    "results = []\n",
    "for name, app in BENCH_APPLICATIONS.items():\n",
    "    separate_results = [\"fineract_bench\", \"jena_bench\"]\n",
    "    print(name)\n",
    "    if \"jena\" in name:\n",
    "        continue\n",
    "    results.append(read_perf_result(app))\n",
    "df = pd.DataFrame(results)\n",
    "df.columns = [\"name\", \"origin\", \"std\", \"static\", \"std\", \"diff\", \"hybrid\", \"std\", \"diff\", \"dynamic\", \"std\", \"diff\"]\n",
    "print(df)\n",
    "\n",
    "#     origin_perf_result = app.perf_result_path(\"origin\")\n",
    "#     static_perf_result = app.perf_result_path(\"static\")\n",
    "#     hybrid_perf_result = app.perf_result_path(\"hybrid\")\n",
    "#     dynamic_perf_result = app.perf_result_path(\"dynamic\")\n",
    "\n",
    "#     if name in separate_results:\n",
    "#         result = read_separate_perf_result([origin_perf_result, static_perf_result, hybrid_perf_result, dynamic_perf_result])\n",
    "#     else:\n",
    "#         result = read_aggregate_perf_result([origin_perf_result, static_perf_result, hybrid_perf_result, dynamic_perf_result])\n",
    "    \n",
    "#     for key, value in result.items():\n",
    "#         if key == \"tpr\":\n",
    "#             m = \"ms\"\n",
    "#         if key == \"throughput\":\n",
    "#             m = \"op/s\"\n",
    "#             key = \"tp\"\n",
    "#         if key == \"exec_time\":\n",
    "#             m = \"s\"\n",
    "#             key = \"time\"\n",
    "#         data[\"name\"].append(name)\n",
    "#         data[\"type\"].append(key + f\"({m})\")\n",
    "#         data[\"origin\"].append(value[0])\n",
    "#         data[\"static\"].append(value[1])\n",
    "#         data[\"hybrid\"].append(value[2])\n",
    "#         data[\"dynamic\"].append(value[3])\n",
    "# df = pd.DataFrame(data)\n",
    "# print(df)\n",
    "# uniformed benchmark?\n",
    "# sosp 19 crash tuner\n",
    "# https://dl.acm.org/doi/pdf/10.1145/3341301.3359645\n",
    "# spectrum based fault localization\n",
    "    # statistical debugging\n",
    "# https://www.usenix.org/system/files/osdi18-cui.pdf\n",
    "\n",
    "# show that first request is benign\n",
    "\n",
    "# we propose this formulation\n",
    "# main contribution is: \n",
    "\n",
    "# we propose to use taint analysis to chain the variables together\n",
    "\n",
    "# explore the design space\n",
    "# different apprach for different scenario\n",
    "\n"
   ]
  },
  {
   "cell_type": "code",
   "execution_count": null,
   "metadata": {},
   "outputs": [],
   "source": []
  }
 ],
 "metadata": {
  "kernelspec": {
   "display_name": "Python 3",
   "language": "python",
   "name": "python3"
  },
  "language_info": {
   "codemirror_mode": {
    "name": "ipython",
    "version": 3
   },
   "file_extension": ".py",
   "mimetype": "text/x-python",
   "name": "python",
   "nbconvert_exporter": "python",
   "pygments_lexer": "ipython3",
   "version": "3.10.6"
  },
  "orig_nbformat": 4,
  "vscode": {
   "interpreter": {
    "hash": "916dbcbb3f70747c44a77c7bcd40155683ae19c65e1c03b4aa3499c5328201f1"
   }
  }
 },
 "nbformat": 4,
 "nbformat_minor": 2
}
