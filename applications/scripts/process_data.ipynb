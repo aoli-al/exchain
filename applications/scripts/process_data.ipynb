{
 "cells": [
  {
   "cell_type": "code",
   "execution_count": 2,
   "metadata": {},
   "outputs": [],
   "source": [
    "%load_ext autoreload\n",
    "%reload_ext autoreload\n",
    "%autoreload 2"
   ]
  },
  {
   "cell_type": "code",
   "execution_count": 14,
   "metadata": {},
   "outputs": [],
   "source": [
    "from runner import *\n",
    "from process_results import *\n",
    "import os\n",
    "import pandas as pd\n",
    "fig_dir = \"/usr0/home/aoli/repos/exchain-paper/figs\""
   ]
  },
  {
   "cell_type": "code",
   "execution_count": 5,
   "metadata": {},
   "outputs": [
    {
     "name": "stdout",
     "output_type": "stream",
     "text": [
      "org.apache.wicket.markup.MarkupException:Unable to find component with id 'renderCount' in [Page class = org.apache.wicket.testapplication.TestPage2, id = 1, render count = 1]\tExpected: ':renderCount'.\tFound with similar names: '':org.apache.wicket.markup.MarkupStream/throwMarkupException:534 -> java.lang.RuntimeException:model still attached!:org.apache.wicket.testapplication.TestPage/onBeforeRender:49\n",
      "\n",
      "org.apache.wicket.markup.MarkupException:Unable to find component with id 'renderCount' in [Page class = org.apache.wicket.testapplication.TestPage2, id = 1, render count = 1]\tExpected: ':renderCount'.\tFound with similar names: '':org.apache.wicket.markup.MarkupStream/throwMarkupException:534 -> java.lang.RuntimeException:model still attached!:org.apache.wicket.testapplication.TestPage/onBeforeRender:49\n",
      "\n"
     ]
    }
   ],
   "source": [
    "table_data = []\n",
    "\n",
    "for name, app in TEST_APPLICATIONS.items():\n",
    "    table_data.append([])\n",
    "    table_data[-1].append(name.replace(\"_\", \"-\").upper())\n",
    "    ground_truth = app.read_ground_truth()\n",
    "    dynamic_dependency = app.read_latest_dynamic_dependency()\n",
    "    root_cause_in_log = check_root_cause_in_log(ground_truth, app.origin_log_path)\n",
    "    table_data[-1].append(app.is_running_service)\n",
    "    table_data[-1].append(app.is_async)\n",
    "    table_data[-1].append(root_cause_in_log)\n",
    "\n",
    "    table_data[-1].append(get_exception_distance(ground_truth,\n",
    "                                                   os.path.join(app.get_latest_result(\"dynamic\"), \"exception.json\")))\n",
    "\n",
    "\n",
    "    dynamic_result_path = app.get_latest_result(\"dynamic\")\n",
    "    exceptions = read_exceptions(os.path.join(dynamic_result_path, \"exception.json\"))\n",
    "    table_data[-1].append(len(exceptions))\n",
    "    ground_truth = app.read_ground_truth()\n",
    "    dynamic_dependency = app.read_latest_dynamic_dependency()\n",
    "\n",
    "\n",
    "    static_dependency = app.read_latest_static_dependency()\n",
    "    table_data[-1].extend(process_dependency_result(static_dependency, ground_truth))\n",
    "\n",
    "    hybrid_online, hybrid_offline = app.read_latest_hybrid_dependency()\n",
    "    table_data[-1].extend(process_dependency_result(hybrid_online + hybrid_offline, ground_truth))\n",
    "    table_data[-1].extend(process_dependency_result(dynamic_dependency, ground_truth))\n",
    "save_as_latex_table(table_data, os.path.join(fig_dir, \"issue_result.tex\"))"
   ]
  },
  {
   "cell_type": "code",
   "execution_count": 20,
   "metadata": {},
   "outputs": [
    {
     "name": "stdout",
     "output_type": "stream",
     "text": [
      "dict_keys(['latency', 'throughput', 'exec_time', 'tpr'])\n"
     ]
    }
   ],
   "source": [
    "\n",
    "table_data = []\n",
    "\n",
    "perf_result = {}\n",
    "for name, app in BENCH_APPLICATIONS.items():\n",
    "    separate_results = [\"fineract_bench\", \"jena_bench\"]\n",
    "    if \"jena\" in name:\n",
    "        continue\n",
    "    read_perf_result(app, perf_result)\n",
    "print(perf_result.keys())\n",
    "save_perf_data_to_latex_table(perf_result, os.path.join(fig_dir, \"perf_result.tex\"))\n",
    "\n"
   ]
  },
  {
   "cell_type": "code",
   "execution_count": null,
   "metadata": {},
   "outputs": [],
   "source": []
  },
  {
   "cell_type": "code",
   "execution_count": 12,
   "metadata": {},
   "outputs": [
    {
     "name": "stdout",
     "output_type": "stream",
     "text": [
      "wicket_6908 11.642194509506226 13.09579062461853\n",
      "jena_324 70.93777775764465 319.458904504776\n",
      "tomcat_65131 5.1277384757995605 7.332220554351807\n",
      "fineract_1211 61.04906439781189 88.45979237556458\n",
      "mapreduce_6654 3122.3008925914764 3613.968741416931\n",
      "nifi_8249 60.76870632171631 367.45970153808594\n",
      "solr_16363 242.29875564575195 256.6314284801483\n",
      "hadoop_17812 438.73030185699463 464.4471251964569\n",
      "wicket_6249 7.684202671051025 8.13386082649231\n",
      "hdfs_4128 568.5159957408905 605.9486541748047\n",
      "hive_13410 7333.726800441742 5167.299909591675\n"
     ]
    }
   ],
   "source": [
    "\n",
    "table_data = []\n",
    "\n",
    "for name, app in TEST_APPLICATIONS.items():\n",
    "    table_data.append([])\n",
    "    table_data[-1].append(name.replace(\"_\", \"-\").upper())\n",
    "    t1 = open(os.path.join(app.out_path, \"static-results\", \"time.txt\")).read().strip()\n",
    "    t2 = open(os.path.join(app.out_path, \"hybrid-results\", \"time.txt\")).read().strip()\n",
    "    print(name, t1, t2)"
   ]
  }
 ],
 "metadata": {
  "kernelspec": {
   "display_name": "Python 3",
   "language": "python",
   "name": "python3"
  },
  "language_info": {
   "codemirror_mode": {
    "name": "ipython",
    "version": 3
   },
   "file_extension": ".py",
   "mimetype": "text/x-python",
   "name": "python",
   "nbconvert_exporter": "python",
   "pygments_lexer": "ipython3",
   "version": "3.8.10"
  },
  "orig_nbformat": 4,
  "vscode": {
   "interpreter": {
    "hash": "916dbcbb3f70747c44a77c7bcd40155683ae19c65e1c03b4aa3499c5328201f1"
   }
  }
 },
 "nbformat": 4,
 "nbformat_minor": 2
}
