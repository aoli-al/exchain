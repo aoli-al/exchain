{
 "cells": [
  {
   "cell_type": "code",
   "execution_count": 2,
   "metadata": {},
   "outputs": [
    {
     "name": "stderr",
     "output_type": "stream",
     "text": [
      "/usr/lib/python3/dist-packages/requests/__init__.py:89: RequestsDependencyWarning: urllib3 (1.25.8) or chardet (4.0.0) doesn't match a supported version!\n",
      "  warnings.warn(\"urllib3 ({}) or chardet ({}) doesn't match a supported \"\n"
     ]
    }
   ],
   "source": [
    "from runner import BENCHMARK_APPLICATIONS\n",
    "from process_results import *\n",
    "import os"
   ]
  },
  {
   "cell_type": "code",
   "execution_count": 12,
   "metadata": {},
   "outputs": [
    {
     "name": "stdout",
     "output_type": "stream",
     "text": [
      "jena_324 6\n",
      "fineract_1211 834\n",
      "mapreduce_6654 58\n",
      "nifi_8249 79\n",
      "hadoop_17812 33\n",
      "wicket_6249 10\n",
      "hdfs_4128 118\n",
      "hive_13410 2794\n"
     ]
    }
   ],
   "source": [
    "for name, cls in BENCHMARK_APPLICATIONS.items():\n",
    "    app = cls()\n",
    "    static_result_path = app.get_latest_result(\"static\")\n",
    "    exceptions = read_exceptions(os.path.join(static_result_path, \"exception.json\"))\n",
    "    print(name, len(exceptions))\n"
   ]
  }
 ],
 "metadata": {
  "kernelspec": {
   "display_name": "Python 3",
   "language": "python",
   "name": "python3"
  },
  "language_info": {
   "codemirror_mode": {
    "name": "ipython",
    "version": 3
   },
   "file_extension": ".py",
   "mimetype": "text/x-python",
   "name": "python",
   "nbconvert_exporter": "python",
   "pygments_lexer": "ipython3",
   "version": "3.8.10"
  },
  "orig_nbformat": 4,
  "vscode": {
   "interpreter": {
    "hash": "916dbcbb3f70747c44a77c7bcd40155683ae19c65e1c03b4aa3499c5328201f1"
   }
  }
 },
 "nbformat": 4,
 "nbformat_minor": 2
}
