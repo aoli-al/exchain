{
 "cells": [
  {
   "cell_type": "code",
   "execution_count": 1,
   "metadata": {},
   "outputs": [],
   "source": [
    "%load_ext autoreload\n",
    "%autoreload 2\n",
    "\n"
   ]
  },
  {
   "cell_type": "code",
   "execution_count": 2,
   "metadata": {},
   "outputs": [
    {
     "name": "stderr",
     "output_type": "stream",
     "text": [
      "/usr/lib/python3/dist-packages/requests/__init__.py:89: RequestsDependencyWarning: urllib3 (1.25.8) or chardet (4.0.0) doesn't match a supported version!\n",
      "  warnings.warn(\"urllib3 ({}) or chardet ({}) doesn't match a supported \"\n"
     ]
    }
   ],
   "source": [
    "from runner import *\n",
    "from process_results import *\n",
    "import os\n",
    "import pandas as pd"
   ]
  },
  {
   "cell_type": "code",
   "execution_count": 3,
   "metadata": {},
   "outputs": [
    {
     "name": "stdout",
     "output_type": "stream",
     "text": [
      "              name  num_exce  num_frame  is_async  logged dynamic static  \\\n",
      "0      wicket_6908         8         97      True    True   1/0/0  1/1/0   \n",
      "1         jena_324       796       4787      True    True   1/0/0  0/0/1   \n",
      "2     tomcat_65131        13         34     False   False   1/0/0  0/0/1   \n",
      "3    fineract_1211        58        264     False    True   1/0/0  1/0/0   \n",
      "4   mapreduce_6654       117        394     False    True   1/0/0  0/0/1   \n",
      "5        nifi_8249        47       2589      True    True   2/0/0  0/0/2   \n",
      "6       solr_16363       171        576     False   False   1/0/0  0/0/1   \n",
      "7     hadoop_17812        24        100     False   False   1/0/0  0/0/1   \n",
      "8      wicket_6249        11         97      True   False   1/0/0  1/0/0   \n",
      "9        hdfs_4128       115        436      True   False   1/0/0  0/0/1   \n",
      "10      hive_13410        51        312      True    True   1/0/0  0/0/1   \n",
      "\n",
      "   hybrid_online hybrid_offline  distance  running_service  \n",
      "0          1/0/0          1/1/0         4             True  \n",
      "1          1/0/0          0/0/1       791             True  \n",
      "2          0/0/1          0/0/1         0             True  \n",
      "3          0/0/1          1/0/0         0             True  \n",
      "4          1/0/0          0/0/1        10             True  \n",
      "5          0/0/2          0/0/2         0            False  \n",
      "6          0/0/1          0/0/1         0             True  \n",
      "7          1/0/0          0/0/1         0             True  \n",
      "8          0/0/1          1/0/0         6             True  \n",
      "9          1/0/0          0/0/1         6             True  \n",
      "10         1/0/0          0/0/1        14             True  \n"
     ]
    }
   ],
   "source": [
    "\n",
    "data = {\n",
    "    \"name\": [],\n",
    "    \"num_exce\": [],\n",
    "    \"num_frame\": [],\n",
    "    \"is_async\": [],\n",
    "    \"logged\": [],\n",
    "    \"dynamic\": [],\n",
    "    \"static\": [],\n",
    "    \"hybrid_online\": [],\n",
    "    \"hybrid_offline\": [],\n",
    "    \"distance\": [], \n",
    "    \"running_service\": []\n",
    "}\n",
    "\n",
    "for name, app in TEST_APPLICATIONS.items():\n",
    "    data[\"name\"].append(name)\n",
    "    ground_truth = app.read_ground_truth()\n",
    "    dynamic_dependency = app.read_latest_dynamic_dependency()\n",
    "    root_cause_in_log = check_root_cause_in_log(ground_truth, app.origin_log_path)\n",
    "    data[\"is_async\"].append(app.is_async)\n",
    "    data[\"logged\"].append(root_cause_in_log)\n",
    "\n",
    "    (tp, fp, fn) = process_dependency_result(dynamic_dependency, ground_truth)\n",
    "    data[\"dynamic\"].append(f\"{tp}/{fp}/{fn}\")\n",
    "\n",
    "    static_dependency = app.read_latest_static_dependency()\n",
    "    (tp, fp, fn) = process_dependency_result(static_dependency, ground_truth)\n",
    "    data[\"static\"].append(f\"{tp}/{fp}/{fn}\")\n",
    "\n",
    "    hybrid_online, hybrid_offline = app.read_latest_hybrid_dependency()\n",
    "    (tp, fp, fn) = process_dependency_result(hybrid_online, ground_truth)\n",
    "    data[\"hybrid_online\"].append(f\"{tp}/{fp}/{fn}\")\n",
    "    (tp, fp, fn) = process_dependency_result(hybrid_offline, ground_truth)\n",
    "    data[\"hybrid_offline\"].append(f\"{tp}/{fp}/{fn}\")\n",
    "    data[\"distance\"].append(get_exception_distance(ground_truth,\n",
    "                                                   os.path.join(app.get_latest_result(\"dynamic\"), \"exception.json\")))\n",
    "\n",
    "\n",
    "    dynamic_result_path = app.get_latest_result(\"dynamic\")\n",
    "    exceptions = read_exceptions(os.path.join(dynamic_result_path, \"exception.json\"))\n",
    "    data['num_exce'].append(len(exceptions))\n",
    "    data[\"num_frame\"].append(len(open(os.path.join(app.get_latest_result(\n",
    "        \"dynamic\"), \"affected-var-results.json\")).readlines()))\n",
    "\n",
    "    data['running_service'].append(app.is_running_service)\n",
    "\n",
    "df = pd.DataFrame(data)\n",
    "print(df)"
   ]
  },
  {
   "cell_type": "code",
   "execution_count": 4,
   "metadata": {},
   "outputs": [
    {
     "name": "stdout",
     "output_type": "stream",
     "text": [
      "fineract_bench\n",
      "jena_bench\n",
      "hadoop_nnbench\n",
      "wicket_bench\n",
      "solr_bench\n"
     ]
    },
    {
     "ename": "FileNotFoundError",
     "evalue": "[Errno 2] No such file or directory: '/usr0/home/aoli/repos/exchain/applications/scripts/../results/solr_bench/static-perf.1.txt'",
     "output_type": "error",
     "traceback": [
      "\u001b[0;31m---------------------------------------------------------------------------\u001b[0m",
      "\u001b[0;31mFileNotFoundError\u001b[0m                         Traceback (most recent call last)",
      "\u001b[0;32m/tmp/ipykernel_824390/2537539697.py\u001b[0m in \u001b[0;36m<module>\u001b[0;34m\u001b[0m\n\u001b[1;32m     13\u001b[0m     \u001b[0;32mif\u001b[0m \u001b[0;34m\"jena\"\u001b[0m \u001b[0;32min\u001b[0m \u001b[0mname\u001b[0m\u001b[0;34m:\u001b[0m\u001b[0;34m\u001b[0m\u001b[0;34m\u001b[0m\u001b[0m\n\u001b[1;32m     14\u001b[0m         \u001b[0;32mcontinue\u001b[0m\u001b[0;34m\u001b[0m\u001b[0;34m\u001b[0m\u001b[0m\n\u001b[0;32m---> 15\u001b[0;31m     \u001b[0mresults\u001b[0m\u001b[0;34m.\u001b[0m\u001b[0mappend\u001b[0m\u001b[0;34m(\u001b[0m\u001b[0mread_perf_result\u001b[0m\u001b[0;34m(\u001b[0m\u001b[0mapp\u001b[0m\u001b[0;34m)\u001b[0m\u001b[0;34m)\u001b[0m\u001b[0;34m\u001b[0m\u001b[0;34m\u001b[0m\u001b[0m\n\u001b[0m\u001b[1;32m     16\u001b[0m \u001b[0mdf\u001b[0m \u001b[0;34m=\u001b[0m \u001b[0mpd\u001b[0m\u001b[0;34m.\u001b[0m\u001b[0mDataFrame\u001b[0m\u001b[0;34m(\u001b[0m\u001b[0mresults\u001b[0m\u001b[0;34m)\u001b[0m\u001b[0;34m\u001b[0m\u001b[0;34m\u001b[0m\u001b[0m\n\u001b[1;32m     17\u001b[0m \u001b[0mdf\u001b[0m\u001b[0;34m.\u001b[0m\u001b[0mcolumns\u001b[0m \u001b[0;34m=\u001b[0m \u001b[0;34m[\u001b[0m\u001b[0;34m\"name\"\u001b[0m\u001b[0;34m,\u001b[0m \u001b[0;34m\"origin\"\u001b[0m\u001b[0;34m,\u001b[0m \u001b[0;34m\"std\"\u001b[0m\u001b[0;34m,\u001b[0m \u001b[0;34m\"static\"\u001b[0m\u001b[0;34m,\u001b[0m \u001b[0;34m\"std\"\u001b[0m\u001b[0;34m,\u001b[0m \u001b[0;34m\"diff\"\u001b[0m\u001b[0;34m,\u001b[0m \u001b[0;34m\"hybrid\"\u001b[0m\u001b[0;34m,\u001b[0m \u001b[0;34m\"std\"\u001b[0m\u001b[0;34m,\u001b[0m \u001b[0;34m\"diff\"\u001b[0m\u001b[0;34m,\u001b[0m \u001b[0;34m\"dynamic\"\u001b[0m\u001b[0;34m,\u001b[0m \u001b[0;34m\"std\"\u001b[0m\u001b[0;34m,\u001b[0m \u001b[0;34m\"diff\"\u001b[0m\u001b[0;34m]\u001b[0m\u001b[0;34m\u001b[0m\u001b[0;34m\u001b[0m\u001b[0m\n",
      "\u001b[0;32m~/repos/exchain/applications/scripts/process_results.py\u001b[0m in \u001b[0;36mread_perf_result\u001b[0;34m(app)\u001b[0m\n\u001b[1;32m    145\u001b[0m                 \u001b[0mresult\u001b[0m \u001b[0;34m=\u001b[0m \u001b[0mread_separate_perf_result\u001b[0m\u001b[0;34m(\u001b[0m\u001b[0mpath\u001b[0m\u001b[0;34m)\u001b[0m\u001b[0;34m\u001b[0m\u001b[0;34m\u001b[0m\u001b[0m\n\u001b[1;32m    146\u001b[0m             \u001b[0;32melse\u001b[0m\u001b[0;34m:\u001b[0m\u001b[0;34m\u001b[0m\u001b[0;34m\u001b[0m\u001b[0m\n\u001b[0;32m--> 147\u001b[0;31m                 \u001b[0mresult\u001b[0m \u001b[0;34m=\u001b[0m \u001b[0mread_aggregate_perf_result\u001b[0m\u001b[0;34m(\u001b[0m\u001b[0mpath\u001b[0m\u001b[0;34m)\u001b[0m\u001b[0;34m\u001b[0m\u001b[0;34m\u001b[0m\u001b[0m\n\u001b[0m\u001b[1;32m    148\u001b[0m             \u001b[0;32mfor\u001b[0m \u001b[0mkey\u001b[0m\u001b[0;34m,\u001b[0m \u001b[0mvalue\u001b[0m \u001b[0;32min\u001b[0m  \u001b[0mresult\u001b[0m\u001b[0;34m.\u001b[0m\u001b[0mitems\u001b[0m\u001b[0;34m(\u001b[0m\u001b[0;34m)\u001b[0m\u001b[0;34m:\u001b[0m\u001b[0;34m\u001b[0m\u001b[0;34m\u001b[0m\u001b[0m\n\u001b[1;32m    149\u001b[0m                 \u001b[0;32mif\u001b[0m \u001b[0mkey\u001b[0m \u001b[0;32mnot\u001b[0m \u001b[0;32min\u001b[0m \u001b[0mdata\u001b[0m\u001b[0;34m:\u001b[0m\u001b[0;34m\u001b[0m\u001b[0;34m\u001b[0m\u001b[0m\n",
      "\u001b[0;32m~/repos/exchain/applications/scripts/process_results.py\u001b[0m in \u001b[0;36mread_aggregate_perf_result\u001b[0;34m(path)\u001b[0m\n\u001b[1;32m    125\u001b[0m \u001b[0;32mdef\u001b[0m \u001b[0mread_aggregate_perf_result\u001b[0m\u001b[0;34m(\u001b[0m\u001b[0mpath\u001b[0m\u001b[0;34m)\u001b[0m\u001b[0;34m:\u001b[0m\u001b[0;34m\u001b[0m\u001b[0;34m\u001b[0m\u001b[0m\n\u001b[1;32m    126\u001b[0m     \u001b[0mitems\u001b[0m \u001b[0;34m=\u001b[0m \u001b[0;34m{\u001b[0m\u001b[0;34m}\u001b[0m\u001b[0;34m\u001b[0m\u001b[0;34m\u001b[0m\u001b[0m\n\u001b[0;32m--> 127\u001b[0;31m     \u001b[0;32mwith\u001b[0m \u001b[0mopen\u001b[0m\u001b[0;34m(\u001b[0m\u001b[0mpath\u001b[0m\u001b[0;34m)\u001b[0m \u001b[0;32mas\u001b[0m \u001b[0mf\u001b[0m\u001b[0;34m:\u001b[0m\u001b[0;34m\u001b[0m\u001b[0;34m\u001b[0m\u001b[0m\n\u001b[0m\u001b[1;32m    128\u001b[0m         \u001b[0;32mfor\u001b[0m \u001b[0mline\u001b[0m \u001b[0;32min\u001b[0m \u001b[0mf\u001b[0m\u001b[0;34m:\u001b[0m\u001b[0;34m\u001b[0m\u001b[0;34m\u001b[0m\u001b[0m\n\u001b[1;32m    129\u001b[0m             \u001b[0;34m[\u001b[0m\u001b[0mname\u001b[0m\u001b[0;34m,\u001b[0m \u001b[0mdata\u001b[0m\u001b[0;34m]\u001b[0m \u001b[0;34m=\u001b[0m \u001b[0mline\u001b[0m\u001b[0;34m.\u001b[0m\u001b[0msplit\u001b[0m\u001b[0;34m(\u001b[0m\u001b[0;34m\", \"\u001b[0m\u001b[0;34m)\u001b[0m\u001b[0;34m\u001b[0m\u001b[0;34m\u001b[0m\u001b[0m\n",
      "\u001b[0;31mFileNotFoundError\u001b[0m: [Errno 2] No such file or directory: '/usr0/home/aoli/repos/exchain/applications/scripts/../results/solr_bench/static-perf.1.txt'"
     ]
    }
   ],
   "source": [
    "\n",
    "data = {\n",
    "    \"name\": [],\n",
    "    \"type\": [],\n",
    "    \"origin\": [],\n",
    "    \"static\": [],\n",
    "    \"hybrid\": [], \n",
    "    \"dynamic\": []\n",
    "}\n",
    "results = []\n",
    "for name, app in BENCH_APPLICATIONS.items():\n",
    "    separate_results = [\"fineract_bench\", \"jena_bench\"]\n",
    "    print(name)\n",
    "    if \"jena\" in name:\n",
    "        continue\n",
    "    results.append(read_perf_result(app))\n",
    "df = pd.DataFrame(results)\n",
    "df.columns = [\"name\", \"origin\", \"std\", \"static\", \"std\", \"diff\", \"hybrid\", \"std\", \"diff\", \"dynamic\", \"std\", \"diff\"]\n",
    "print(df)\n",
    "\n",
    "#     origin_perf_result = app.perf_result_path(\"origin\")\n",
    "#     static_perf_result = app.perf_result_path(\"static\")\n",
    "#     hybrid_perf_result = app.perf_result_path(\"hybrid\")\n",
    "#     dynamic_perf_result = app.perf_result_path(\"dynamic\")\n",
    "\n",
    "#     if name in separate_results:\n",
    "#         result = read_separate_perf_result([origin_perf_result, static_perf_result, hybrid_perf_result, dynamic_perf_result])\n",
    "#     else:\n",
    "#         result = read_aggregate_perf_result([origin_perf_result, static_perf_result, hybrid_perf_result, dynamic_perf_result])\n",
    "    \n",
    "#     for key, value in result.items():\n",
    "#         if key == \"tpr\":\n",
    "#             m = \"ms\"\n",
    "#         if key == \"throughput\":\n",
    "#             m = \"op/s\"\n",
    "#             key = \"tp\"\n",
    "#         if key == \"exec_time\":\n",
    "#             m = \"s\"\n",
    "#             key = \"time\"\n",
    "#         data[\"name\"].append(name)\n",
    "#         data[\"type\"].append(key + f\"({m})\")\n",
    "#         data[\"origin\"].append(value[0])\n",
    "#         data[\"static\"].append(value[1])\n",
    "#         data[\"hybrid\"].append(value[2])\n",
    "#         data[\"dynamic\"].append(value[3])\n",
    "# df = pd.DataFrame(data)\n",
    "# print(df)\n",
    "# uniformed benchmark?\n",
    "# sosp 19 crash tuner\n",
    "# https://dl.acm.org/doi/pdf/10.1145/3341301.3359645\n",
    "# spectrum based fault localization\n",
    "    # statistical debugging\n",
    "# https://www.usenix.org/system/files/osdi18-cui.pdf\n",
    "\n",
    "# show that first request is benign\n",
    "\n",
    "# we propose this formulation\n",
    "# main contribution is: \n",
    "\n",
    "# we propose to use taint analysis to chain the variables together\n",
    "\n",
    "# explore the design space\n",
    "# different apprach for different scenario\n",
    "\n"
   ]
  },
  {
   "cell_type": "code",
   "execution_count": null,
   "metadata": {},
   "outputs": [],
   "source": []
  }
 ],
 "metadata": {
  "kernelspec": {
   "display_name": "Python 3",
   "language": "python",
   "name": "python3"
  },
  "language_info": {
   "codemirror_mode": {
    "name": "ipython",
    "version": 3
   },
   "file_extension": ".py",
   "mimetype": "text/x-python",
   "name": "python",
   "nbconvert_exporter": "python",
   "pygments_lexer": "ipython3",
   "version": "3.8.10"
  },
  "orig_nbformat": 4,
  "vscode": {
   "interpreter": {
    "hash": "916dbcbb3f70747c44a77c7bcd40155683ae19c65e1c03b4aa3499c5328201f1"
   }
  }
 },
 "nbformat": 4,
 "nbformat_minor": 2
}
