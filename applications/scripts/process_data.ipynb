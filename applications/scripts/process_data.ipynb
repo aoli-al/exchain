{
 "cells": [
  {
   "cell_type": "code",
   "execution_count": 1,
   "metadata": {},
   "outputs": [],
   "source": [
    "%load_ext autoreload\n",
    "%reload_ext autoreload\n",
    "%autoreload 2"
   ]
  },
  {
   "cell_type": "code",
   "execution_count": 1,
   "metadata": {},
   "outputs": [
    {
     "name": "stderr",
     "output_type": "stream",
     "text": [
      "/usr/lib/python3/dist-packages/requests/__init__.py:89: RequestsDependencyWarning: urllib3 (1.25.8) or chardet (4.0.0) doesn't match a supported version!\n",
      "  warnings.warn(\"urllib3 ({}) or chardet ({}) doesn't match a supported \"\n"
     ]
    }
   ],
   "source": [
    "from runner import *\n",
    "from process_results import *\n",
    "import os\n",
    "import pandas as pd\n",
    "fig_dir = \"/usr0/home/aoli/repos/exchain-paper/figs\""
   ]
  },
  {
   "cell_type": "code",
   "execution_count": 10,
   "metadata": {},
   "outputs": [
    {
     "name": "stdout",
     "output_type": "stream",
     "text": [
      "org.apache.wicket.markup.MarkupException:Unable to find component with id 'renderCount' in [Page class = org.apache.wicket.testapplication.TestPage2, id = 1, render count = 1]\tExpected: ':renderCount'.\tFound with similar names: '':org.apache.wicket.markup.MarkupStream/throwMarkupException:534 -> java.lang.RuntimeException:model still attached!:org.apache.wicket.testapplication.TestPage/onBeforeRender:49\n",
      "\n",
      "org.apache.wicket.markup.MarkupException:Unable to find component with id 'renderCount' in [Page class = org.apache.wicket.testapplication.TestPage2, id = 1, render count = 1]\tExpected: ':renderCount'.\tFound with similar names: '':org.apache.wicket.markup.MarkupStream/throwMarkupException:534 -> java.lang.RuntimeException:model still attached!:org.apache.wicket.testapplication.TestPage/onBeforeRender:49\n",
      "\n"
     ]
    }
   ],
   "source": [
    "table_data = []\n",
    "\n",
    "for name, app in TEST_APPLICATIONS.items():\n",
    "    table_data.append([])\n",
    "    table_data[-1].append(name.replace(\"_\", \"-\").upper())\n",
    "    ground_truth = app.read_ground_truth()\n",
    "    dynamic_dependency = app.read_latest_dynamic_dependency()\n",
    "    root_cause_in_log = check_root_cause_in_log(ground_truth, app.origin_log_path)\n",
    "    table_data[-1].append(app.is_running_service)\n",
    "    table_data[-1].append(app.is_async)\n",
    "    table_data[-1].append(root_cause_in_log)\n",
    "\n",
    "    table_data[-1].append(get_exception_distance(ground_truth,\n",
    "                                                   os.path.join(app.get_latest_result(\"dynamic\"), \"exception.json\")))\n",
    "\n",
    "\n",
    "    dynamic_result_path = app.get_latest_result(\"dynamic\")\n",
    "    exceptions = read_exceptions(os.path.join(dynamic_result_path, \"exception.json\"))\n",
    "    table_data[-1].append(len(exceptions))\n",
    "    ground_truth = app.read_ground_truth()\n",
    "    dynamic_dependency = app.read_latest_dynamic_dependency()\n",
    "\n",
    "\n",
    "    static_dependency = app.read_latest_static_dependency()\n",
    "    table_data[-1].extend(process_dependency_result(static_dependency, ground_truth))\n",
    "\n",
    "    hybrid_online, hybrid_offline = app.read_latest_hybrid_dependency()\n",
    "    table_data[-1].extend(process_dependency_result(hybrid_online + hybrid_offline, ground_truth))\n",
    "    table_data[-1].extend(process_dependency_result(dynamic_dependency, ground_truth))\n",
    "save_as_latex_table(table_data, os.path.join(fig_dir, \"issue_result.tex\"))"
   ]
  },
  {
   "cell_type": "code",
   "execution_count": 2,
   "metadata": {},
   "outputs": [
    {
     "name": "stdout",
     "output_type": "stream",
     "text": [
      "dict_keys(['latency', 'throughput', 'exec_time'])\n",
      "{'latency': {'FINERACT': [17.046599999999998, 0.3042817407893179, 17.8732, 0.5189184907092833, '4.8\\\\%', 18.867700000000003, 0.45249801718411486, '10.7\\\\%', 700.8226, 84.71400810990143, '4011.2\\\\%'], 'HADOOP': [1.3843333333333334, 0.0025540454475494277, 1.3953333333333333, 0.002269973078646053, '0.8\\\\%', 1.6867833333333333, 0.005919104870597935, '21.8\\\\%', 2.911175, 0.033466365324377335, '110.3\\\\%'], 'WICKET': [14.276800000000003, 0.6578304070537055, 15.8012, 0.3742844432306054, '10.7\\\\%', 17.265500000000003, 0.9842494320264783, '20.9\\\\%', 142.92430000000002, 6.921903239395617, '901.1\\\\%'], 'TOMCAT': [7.9444, 0.3450594795748184, 8.6096, 0.6112192187205286, '8.4\\\\%', 9.0586, 0.36038935734686856, '14.0\\\\%', 148.1363, 8.307001130906919, '1764.7\\\\%']}, 'throughput': {'FINERACT': [1173.5900000000001, 21.058380754464466, 1119.8200000000002, 31.53293375363464, '-4.6\\\\%', 1060.5529999999999, 25.418624864457193, '-9.6\\\\%', 28.961000000000002, 3.90168183109683, '-97.5\\\\%'], 'HADOOP': [1432.7, 2.7908580918579307, 1419.9, 2.7264140062238043, '-0.9\\\\%', 1169.1, 4.094712037087183, '-18.4\\\\%', 668.1, 7.370361064576295, '-53.4\\\\%'], 'WICKET': [14034.928, 629.7896111630366, 12663.641000000001, 299.4972670047815, '-9.8\\\\%', 11617.293999999998, 651.4641194553832, '-17.2\\\\%', 1402.263, 67.04366074100933, '-90.0\\\\%'], 'SOLR': [16728.05, 157.6417978921413, 16210.9595, 134.13596912772206, '-3.1\\\\%', 12029.2656, 110.19109127652345, '-28.1\\\\%', 232.49859999999998, 28.047487592771414, '-98.6\\\\%'], 'TOMCAT': [25217.835, 1106.5687979239651, 23330.384, 1576.3722356248504, '-7.5\\\\%', 22108.132999999998, 832.9440336414502, '-12.3\\\\%', 1353.914, 75.44330515912816, '-94.6\\\\%'], 'HDFS': [2248.1589999999997, 19.81475233254259, 2259.389, 16.97718367561462, '0.5\\\\%', 1853.1119999999999, 13.807861528853747, '-17.6\\\\%', 313.584, 18.172113067371487, '-86.1\\\\%']}, 'exec_time': {'MAPREDUCE': [20.0857, 0.5186870283064089, 22.3107, 0.9986841398115371, '11.1\\\\%', 26.2344, 0.5151533105138055, '30.6\\\\%', 1206.0472, 50.92783834843615, '5904.5\\\\%'], 'HDFS': [4.348, 0.013165611772087716, 4.356, 0.012649110640673637, '0.2\\\\%', 5.462, 0.016865480854231327, '25.6\\\\%', 26.117999999999995, 0.8780508717228939, '500.7\\\\%']}}\n",
      "exec_time\n",
      "{'latency': {'FINERACT': [17.046599999999998, 0.3042817407893179, 17.8732, 0.5189184907092833, '4.8\\\\%', 18.867700000000003, 0.45249801718411486, '10.7\\\\%', 700.8226, 84.71400810990143, '4011.2\\\\%'], 'HADOOP': [1.3843333333333334, 0.0025540454475494277, 1.3953333333333333, 0.002269973078646053, '0.8\\\\%', 1.6867833333333333, 0.005919104870597935, '21.8\\\\%', 2.911175, 0.033466365324377335, '110.3\\\\%'], 'WICKET': [14.276800000000003, 0.6578304070537055, 15.8012, 0.3742844432306054, '10.7\\\\%', 17.265500000000003, 0.9842494320264783, '20.9\\\\%', 142.92430000000002, 6.921903239395617, '901.1\\\\%'], 'TOMCAT': [7.9444, 0.3450594795748184, 8.6096, 0.6112192187205286, '8.4\\\\%', 9.0586, 0.36038935734686856, '14.0\\\\%', 148.1363, 8.307001130906919, '1764.7\\\\%']}, 'throughput': {'FINERACT': [1173.5900000000001, 21.058380754464466, 1119.8200000000002, 31.53293375363464, '-4.6\\\\%', 1060.5529999999999, 25.418624864457193, '-9.6\\\\%', 28.961000000000002, 3.90168183109683, '-97.5\\\\%'], 'HADOOP': [1432.7, 2.7908580918579307, 1419.9, 2.7264140062238043, '-0.9\\\\%', 1169.1, 4.094712037087183, '-18.4\\\\%', 668.1, 7.370361064576295, '-53.4\\\\%'], 'WICKET': [14034.928, 629.7896111630366, 12663.641000000001, 299.4972670047815, '-9.8\\\\%', 11617.293999999998, 651.4641194553832, '-17.2\\\\%', 1402.263, 67.04366074100933, '-90.0\\\\%'], 'SOLR': [16728.05, 157.6417978921413, 16210.9595, 134.13596912772206, '-3.1\\\\%', 12029.2656, 110.19109127652345, '-28.1\\\\%', 232.49859999999998, 28.047487592771414, '-98.6\\\\%'], 'TOMCAT': [25217.835, 1106.5687979239651, 23330.384, 1576.3722356248504, '-7.5\\\\%', 22108.132999999998, 832.9440336414502, '-12.3\\\\%', 1353.914, 75.44330515912816, '-94.6\\\\%'], 'HDFS': [2248.1589999999997, 19.81475233254259, 2259.389, 16.97718367561462, '0.5\\\\%', 1853.1119999999999, 13.807861528853747, '-17.6\\\\%', 313.584, 18.172113067371487, '-86.1\\\\%']}, 'exec_time': {'MAPREDUCE': [20.0857, 0.5186870283064089, 22.3107, 0.9986841398115371, '11.1\\\\%', 26.2344, 0.5151533105138055, '30.6\\\\%', 1206.0472, 50.92783834843615, '5904.5\\\\%'], 'HDFS': [4.348, 0.013165611772087716, 4.356, 0.012649110640673637, '0.2\\\\%', 5.462, 0.016865480854231327, '25.6\\\\%', 26.117999999999995, 0.8780508717228939, '500.7\\\\%']}}\n",
      "latency\n",
      "{'latency': {'FINERACT': [17.046599999999998, 0.3042817407893179, 17.8732, 0.5189184907092833, '4.8\\\\%', 18.867700000000003, 0.45249801718411486, '10.7\\\\%', 700.8226, 84.71400810990143, '4011.2\\\\%'], 'HADOOP': [1.3843333333333334, 0.0025540454475494277, 1.3953333333333333, 0.002269973078646053, '0.8\\\\%', 1.6867833333333333, 0.005919104870597935, '21.8\\\\%', 2.911175, 0.033466365324377335, '110.3\\\\%'], 'WICKET': [14.276800000000003, 0.6578304070537055, 15.8012, 0.3742844432306054, '10.7\\\\%', 17.265500000000003, 0.9842494320264783, '20.9\\\\%', 142.92430000000002, 6.921903239395617, '901.1\\\\%'], 'TOMCAT': [7.9444, 0.3450594795748184, 8.6096, 0.6112192187205286, '8.4\\\\%', 9.0586, 0.36038935734686856, '14.0\\\\%', 148.1363, 8.307001130906919, '1764.7\\\\%']}, 'throughput': {'FINERACT': [1173.5900000000001, 21.058380754464466, 1119.8200000000002, 31.53293375363464, '-4.6\\\\%', 1060.5529999999999, 25.418624864457193, '-9.6\\\\%', 28.961000000000002, 3.90168183109683, '-97.5\\\\%'], 'HADOOP': [1432.7, 2.7908580918579307, 1419.9, 2.7264140062238043, '-0.9\\\\%', 1169.1, 4.094712037087183, '-18.4\\\\%', 668.1, 7.370361064576295, '-53.4\\\\%'], 'WICKET': [14034.928, 629.7896111630366, 12663.641000000001, 299.4972670047815, '-9.8\\\\%', 11617.293999999998, 651.4641194553832, '-17.2\\\\%', 1402.263, 67.04366074100933, '-90.0\\\\%'], 'SOLR': [16728.05, 157.6417978921413, 16210.9595, 134.13596912772206, '-3.1\\\\%', 12029.2656, 110.19109127652345, '-28.1\\\\%', 232.49859999999998, 28.047487592771414, '-98.6\\\\%'], 'TOMCAT': [25217.835, 1106.5687979239651, 23330.384, 1576.3722356248504, '-7.5\\\\%', 22108.132999999998, 832.9440336414502, '-12.3\\\\%', 1353.914, 75.44330515912816, '-94.6\\\\%'], 'HDFS': [2248.1589999999997, 19.81475233254259, 2259.389, 16.97718367561462, '0.5\\\\%', 1853.1119999999999, 13.807861528853747, '-17.6\\\\%', 313.584, 18.172113067371487, '-86.1\\\\%']}, 'exec_time': {'MAPREDUCE': [20.0857, 0.5186870283064089, 22.3107, 0.9986841398115371, '11.1\\\\%', 26.2344, 0.5151533105138055, '30.6\\\\%', 1206.0472, 50.92783834843615, '5904.5\\\\%'], 'HDFS': [4.348, 0.013165611772087716, 4.356, 0.012649110640673637, '0.2\\\\%', 5.462, 0.016865480854231327, '25.6\\\\%', 26.117999999999995, 0.8780508717228939, '500.7\\\\%']}}\n",
      "throughput\n"
     ]
    }
   ],
   "source": [
    "\n",
    "table_data = []\n",
    "\n",
    "perf_result = {}\n",
    "for name, app in BENCH_APPLICATIONS.items():\n",
    "    separate_results = [\"fineract_bench\", \"jena_bench\"]\n",
    "    if \"jena\" in name:\n",
    "        continue\n",
    "    read_perf_result(app, perf_result)\n",
    "print(perf_result.keys())\n",
    "save_perf_data_to_latex_table(perf_result, os.path.join(fig_dir, \"perf_result.tex\"))\n",
    "\n"
   ]
  },
  {
   "cell_type": "code",
   "execution_count": null,
   "metadata": {},
   "outputs": [],
   "source": []
  },
  {
   "cell_type": "code",
   "execution_count": null,
   "metadata": {},
   "outputs": [],
   "source": []
  },
  {
   "cell_type": "code",
   "execution_count": null,
   "metadata": {},
   "outputs": [],
   "source": []
  },
  {
   "cell_type": "code",
   "execution_count": 4,
   "metadata": {},
   "outputs": [
    {
     "name": "stdout",
     "output_type": "stream",
     "text": [
      "(False, 0)\n",
      "wicket_6908 11.642194509506226 19.65850257873535\n",
      "(False, 0)\n",
      "jena_324 70.93777775764465 54.194939851760864\n",
      "(False, 0)\n",
      "tomcat_65131 5.1277384757995605 5.178875207901001\n",
      "(False, 0)\n",
      "fineract_1211 61.04906439781189 31.431369066238403\n",
      "(False, 0)\n",
      "mapreduce_6654 3122.3008925914764 166.78919768333435\n",
      "(False, 0)\n",
      "nifi_8249 60.76870632171631 144.37649631500244\n",
      "(False, 0)\n",
      "solr_16363 242.29875564575195 95.37756419181824\n",
      "(False, 0)\n",
      "hadoop_17812 438.73030185699463 695.7187042236328\n",
      "(False, 0)\n",
      "wicket_6249 7.684202671051025 11.139976024627686\n",
      "(False, 0)\n",
      "hdfs_4128 568.5159957408905 397.30817103385925\n",
      "(False, 0)\n",
      "hive_13410 7333.726800441742 2238.788341283798\n"
     ]
    }
   ],
   "source": [
    "\n",
    "table_data = []\n",
    "\n",
    "for name, app in TEST_APPLICATIONS.items():\n",
    "    ground_truth = app.read_ground_truth()\n",
    "    table_data.append([])\n",
    "    table_data[-1].append(name.replace(\"_\", \"-\").upper())\n",
    "    t1 = open(os.path.join(app.out_path, \"static-results\", \"time.txt\")).read().strip()\n",
    "    t2 = open(os.path.join(app.out_path, \"static-results\", \"time.naive.txt\")).read().strip()\n",
    "\n",
    "    static_dependency = app.read_latest_naive_static_dependency()\n",
    "    print(process_dependency_result(static_dependency, ground_truth))\n",
    "    print(name, t1, t2)\n",
    "    table_data[-1].append(\"\\\\xmark\")\n",
    "    table_data[-1].append(float(t1))\n",
    "    table_data[-1].append(float(t2))\n",
    "save_as_latex_table(table_data, os.path.join(fig_dir, \"static-cmp.tex\"))"
   ]
  },
  {
   "cell_type": "markdown",
   "metadata": {},
   "source": []
  }
 ],
 "metadata": {
  "kernelspec": {
   "display_name": "Python 3",
   "language": "python",
   "name": "python3"
  },
  "language_info": {
   "codemirror_mode": {
    "name": "ipython",
    "version": 3
   },
   "file_extension": ".py",
   "mimetype": "text/x-python",
   "name": "python",
   "nbconvert_exporter": "python",
   "pygments_lexer": "ipython3",
   "version": "3.8.10"
  },
  "orig_nbformat": 4,
  "vscode": {
   "interpreter": {
    "hash": "916dbcbb3f70747c44a77c7bcd40155683ae19c65e1c03b4aa3499c5328201f1"
   }
  }
 },
 "nbformat": 4,
 "nbformat_minor": 2
}
